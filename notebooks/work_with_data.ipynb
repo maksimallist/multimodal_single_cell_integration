{
 "cells": [
  {
   "cell_type": "code",
   "execution_count": 1,
   "id": "2d51a7dd-f1f8-4447-9680-90b61ff9d0b5",
   "metadata": {},
   "outputs": [],
   "source": [
    "from typing import Callable, Optional, Tuple, Union\n",
    "\n",
    "import h5py\n",
    "import hdf5plugin  # не удалять!\n",
    "import pandas as pd\n",
    "import numpy as np\n",
    "import torch\n",
    "from torch.utils.data import DataLoader, Dataset"
   ]
  },
  {
   "cell_type": "code",
   "execution_count": 2,
   "id": "f238e7e9-9416-4999-95fb-9d85ba6736ab",
   "metadata": {},
   "outputs": [],
   "source": [
    "meta_file = '/home/mks/PycharmProjects/multimodal_single_cell_integration/dataset/metadata.csv'\n",
    "df_meta = pd.read_csv(meta_file, index_col='cell_id')"
   ]
  },
  {
   "cell_type": "code",
   "execution_count": 3,
   "id": "dcae7984-d597-4764-98d1-d53638b3a550",
   "metadata": {},
   "outputs": [
    {
     "data": {
      "text/html": [
       "<div>\n",
       "<style scoped>\n",
       "    .dataframe tbody tr th:only-of-type {\n",
       "        vertical-align: middle;\n",
       "    }\n",
       "\n",
       "    .dataframe tbody tr th {\n",
       "        vertical-align: top;\n",
       "    }\n",
       "\n",
       "    .dataframe thead th {\n",
       "        text-align: right;\n",
       "    }\n",
       "</style>\n",
       "<table border=\"1\" class=\"dataframe\">\n",
       "  <thead>\n",
       "    <tr style=\"text-align: right;\">\n",
       "      <th></th>\n",
       "      <th>day</th>\n",
       "      <th>donor</th>\n",
       "      <th>cell_type</th>\n",
       "      <th>technology</th>\n",
       "    </tr>\n",
       "    <tr>\n",
       "      <th>cell_id</th>\n",
       "      <th></th>\n",
       "      <th></th>\n",
       "      <th></th>\n",
       "      <th></th>\n",
       "    </tr>\n",
       "  </thead>\n",
       "  <tbody>\n",
       "    <tr>\n",
       "      <th>c2150f55becb</th>\n",
       "      <td>2</td>\n",
       "      <td>27678</td>\n",
       "      <td>HSC</td>\n",
       "      <td>citeseq</td>\n",
       "    </tr>\n",
       "    <tr>\n",
       "      <th>65b7edf8a4da</th>\n",
       "      <td>2</td>\n",
       "      <td>27678</td>\n",
       "      <td>HSC</td>\n",
       "      <td>citeseq</td>\n",
       "    </tr>\n",
       "    <tr>\n",
       "      <th>c1b26cb1057b</th>\n",
       "      <td>2</td>\n",
       "      <td>27678</td>\n",
       "      <td>EryP</td>\n",
       "      <td>citeseq</td>\n",
       "    </tr>\n",
       "    <tr>\n",
       "      <th>917168fa6f83</th>\n",
       "      <td>2</td>\n",
       "      <td>27678</td>\n",
       "      <td>NeuP</td>\n",
       "      <td>citeseq</td>\n",
       "    </tr>\n",
       "    <tr>\n",
       "      <th>2b29feeca86d</th>\n",
       "      <td>2</td>\n",
       "      <td>27678</td>\n",
       "      <td>EryP</td>\n",
       "      <td>citeseq</td>\n",
       "    </tr>\n",
       "    <tr>\n",
       "      <th>0fd801488185</th>\n",
       "      <td>2</td>\n",
       "      <td>27678</td>\n",
       "      <td>EryP</td>\n",
       "      <td>citeseq</td>\n",
       "    </tr>\n",
       "    <tr>\n",
       "      <th>526647a698f8</th>\n",
       "      <td>2</td>\n",
       "      <td>27678</td>\n",
       "      <td>HSC</td>\n",
       "      <td>citeseq</td>\n",
       "    </tr>\n",
       "    <tr>\n",
       "      <th>ab8f207a3dec</th>\n",
       "      <td>2</td>\n",
       "      <td>27678</td>\n",
       "      <td>HSC</td>\n",
       "      <td>citeseq</td>\n",
       "    </tr>\n",
       "    <tr>\n",
       "      <th>57f730249c87</th>\n",
       "      <td>2</td>\n",
       "      <td>27678</td>\n",
       "      <td>MasP</td>\n",
       "      <td>citeseq</td>\n",
       "    </tr>\n",
       "    <tr>\n",
       "      <th>08df3dcce25c</th>\n",
       "      <td>2</td>\n",
       "      <td>27678</td>\n",
       "      <td>HSC</td>\n",
       "      <td>citeseq</td>\n",
       "    </tr>\n",
       "  </tbody>\n",
       "</table>\n",
       "</div>"
      ],
      "text/plain": [
       "              day  donor cell_type technology\n",
       "cell_id                                      \n",
       "c2150f55becb    2  27678       HSC    citeseq\n",
       "65b7edf8a4da    2  27678       HSC    citeseq\n",
       "c1b26cb1057b    2  27678      EryP    citeseq\n",
       "917168fa6f83    2  27678      NeuP    citeseq\n",
       "2b29feeca86d    2  27678      EryP    citeseq\n",
       "0fd801488185    2  27678      EryP    citeseq\n",
       "526647a698f8    2  27678       HSC    citeseq\n",
       "ab8f207a3dec    2  27678       HSC    citeseq\n",
       "57f730249c87    2  27678      MasP    citeseq\n",
       "08df3dcce25c    2  27678       HSC    citeseq"
      ]
     },
     "execution_count": 3,
     "metadata": {},
     "output_type": "execute_result"
    }
   ],
   "source": [
    "df_meta.head(10)"
   ]
  },
  {
   "cell_type": "markdown",
   "id": "5bde6280-6066-44fc-8aa5-dfbe66f8a887",
   "metadata": {},
   "source": [
    "------------------------------------------------------------------------------"
   ]
  },
  {
   "cell_type": "code",
   "execution_count": 4,
   "id": "16afa14a-2626-4a4e-a907-8a36e923ba6d",
   "metadata": {},
   "outputs": [],
   "source": [
    "class FlowDataset(Dataset):\n",
    "    _reserve_name: str = \"block0_values\"\n",
    "\n",
    "    def __init__(self,\n",
    "                 features_file: str,\n",
    "                 targets_file: Optional[str] = None,\n",
    "                 transform: Optional[Callable] = None,\n",
    "                 target_transform: Optional[Callable] = None,\n",
    "                 device: Optional[Union[str, torch.device]] = None):\n",
    "        self.features, self.features_names, self.features_shape = self.get_hdf5_flow(features_file)\n",
    "        if targets_file:\n",
    "            self.targets, self.targets_names, self.targets_shape = self.get_hdf5_flow(targets_file)\n",
    "            assert self.targets_shape[0] == self.features_shape[0]\n",
    "        else:\n",
    "            self.targets = targets_file\n",
    "\n",
    "        self.device = device\n",
    "        self.transform = transform\n",
    "        self.target_transform = target_transform\n",
    "\n",
    "    def get_hdf5_flow(self, file_path: str):\n",
    "        file_flow = h5py.File(file_path, 'r')\n",
    "        col_names = list(file_flow[list(file_flow.keys())[0]])\n",
    "        assert self._reserve_name in col_names\n",
    "\n",
    "        lines, features_shape = file_flow[list(file_flow.keys())[0]][\"block0_values\"].shape\n",
    "        data_flow = file_flow[list(file_flow.keys())[0]]\n",
    "\n",
    "        return data_flow, col_names, (lines, features_shape)\n",
    "\n",
    "    def __len__(self):\n",
    "        return len(self.features['axis1'])\n",
    "\n",
    "    def __getitem__(self, item: int) -> Union[torch.Tensor, Tuple[torch.Tensor, torch.Tensor]]:\n",
    "        if self.targets is not None:\n",
    "            x = torch.from_numpy(self.features['block0_values'][item])\n",
    "            y = torch.from_numpy(self.targets['block0_values'][item])\n",
    "\n",
    "            if self.transform:\n",
    "                x = self.transform(x)\n",
    "            if self.target_transform:\n",
    "                y = self.target_transform(y)\n",
    "            if self.device:\n",
    "                x, y = x.to(self.device), y.to(self.device)\n",
    "\n",
    "            return x, y\n",
    "        else:\n",
    "            x = torch.from_numpy(self.features['block0_values'][item])\n",
    "\n",
    "            if self.transform:\n",
    "                x = self.transform(x)\n",
    "            if self.device:\n",
    "                x = x.to(self.device)\n",
    "\n",
    "            return x"
   ]
  },
  {
   "cell_type": "code",
   "execution_count": 5,
   "id": "292d1867-1213-445a-8b0a-78f831307426",
   "metadata": {},
   "outputs": [],
   "source": [
    "mx = '/home/mks/PycharmProjects/multimodal_single_cell_integration/dataset/train_multi_inputs.h5'\n",
    "my = '/home/mks/PycharmProjects/multimodal_single_cell_integration/dataset/train_multi_targets.h5'\n",
    "cx = '/home/mks/PycharmProjects/multimodal_single_cell_integration/dataset/train_cite_inputs.h5'\n",
    "cy = '/home/mks/PycharmProjects/multimodal_single_cell_integration/dataset/train_cite_targets.h5'"
   ]
  },
  {
   "cell_type": "code",
   "execution_count": 6,
   "id": "d9d2f0bd-af37-41c3-862f-c825fad217ff",
   "metadata": {},
   "outputs": [],
   "source": [
    "train_m = FlowDataset(features_file=mx, targets_file=my)\n",
    "train_c = FlowDataset(features_file=cx, targets_file=cy)"
   ]
  },
  {
   "cell_type": "code",
   "execution_count": 7,
   "id": "029c6d14-062f-4ab6-bebc-4556d36fab02",
   "metadata": {},
   "outputs": [],
   "source": [
    "loader_m = DataLoader(train_m, batch_size=2, shuffle=False)\n",
    "loader_c = DataLoader(train_c, batch_size=2, shuffle=False)"
   ]
  },
  {
   "cell_type": "code",
   "execution_count": 8,
   "id": "791155c5-ef17-4818-8f53-8c5a6846f9b3",
   "metadata": {},
   "outputs": [
    {
     "name": "stdout",
     "output_type": "stream",
     "text": [
      "Feature batch shape: torch.Size([2, 228942])\n",
      "Labels batch shape: torch.Size([2, 23418])\n"
     ]
    }
   ],
   "source": [
    "x, y = next(iter(loader_m))\n",
    "print(f\"Feature batch shape: {x.size()}\")\n",
    "print(f\"Labels batch shape: {y.size()}\")"
   ]
  },
  {
   "cell_type": "code",
   "execution_count": 9,
   "id": "d94811e5-e286-4c48-bd7a-a3b3ed688bce",
   "metadata": {},
   "outputs": [
    {
     "name": "stdout",
     "output_type": "stream",
     "text": [
      "Feature batch shape: torch.Size([2, 22050])\n",
      "Labels batch shape: torch.Size([2, 140])\n"
     ]
    }
   ],
   "source": [
    "x, y = next(iter(loader_c))\n",
    "print(f\"Feature batch shape: {x.size()}\")\n",
    "print(f\"Labels batch shape: {y.size()}\")"
   ]
  },
  {
   "cell_type": "code",
   "execution_count": 10,
   "id": "e9d93184-13d7-4ff3-8d5f-2d77db4c8a42",
   "metadata": {},
   "outputs": [
    {
     "data": {
      "text/plain": [
       "62250"
      ]
     },
     "execution_count": 10,
     "metadata": {},
     "output_type": "execute_result"
    }
   ],
   "source": [
    "df_meta[(df_meta['day'] == 2)].shape[0]"
   ]
  },
  {
   "cell_type": "code",
   "execution_count": 11,
   "id": "f3b6cf04-caf8-4edb-963d-177bef84be18",
   "metadata": {},
   "outputs": [
    {
     "data": {
      "text/plain": [
       "29418"
      ]
     },
     "execution_count": 11,
     "metadata": {},
     "output_type": "execute_result"
    }
   ],
   "source": [
    "df_meta[(df_meta['day'] == 2) & (df_meta['technology'] == 'citeseq')].shape[0]"
   ]
  },
  {
   "cell_type": "code",
   "execution_count": 12,
   "id": "9698801e-42dc-4080-9c64-3f8fcf05b667",
   "metadata": {},
   "outputs": [
    {
     "data": {
      "text/plain": [
       "32832"
      ]
     },
     "execution_count": 12,
     "metadata": {},
     "output_type": "execute_result"
    }
   ],
   "source": [
    "df_meta[(df_meta['day'] == 2) & (df_meta['technology'] == 'multiome')].shape[0]"
   ]
  },
  {
   "cell_type": "code",
   "execution_count": 13,
   "id": "854c2042-998b-440f-9df2-0b64ab290a91",
   "metadata": {},
   "outputs": [
    {
     "data": {
      "text/plain": [
       "62250"
      ]
     },
     "execution_count": 13,
     "metadata": {},
     "output_type": "execute_result"
    }
   ],
   "source": [
    "29418 + 32832"
   ]
  },
  {
   "cell_type": "code",
   "execution_count": 14,
   "id": "9ac4d8d3-5bb3-4545-9a40-3ac14c8e16d5",
   "metadata": {},
   "outputs": [],
   "source": [
    "z = train_m.features"
   ]
  },
  {
   "cell_type": "code",
   "execution_count": 15,
   "id": "5d55cc47-904a-4503-8d50-f18049d0ad9a",
   "metadata": {},
   "outputs": [
    {
     "data": {
      "text/plain": [
       "<KeysViewHDF5 ['axis0', 'axis1', 'block0_items', 'block0_values']>"
      ]
     },
     "execution_count": 15,
     "metadata": {},
     "output_type": "execute_result"
    }
   ],
   "source": [
    "z.keys()"
   ]
  },
  {
   "cell_type": "code",
   "execution_count": 16,
   "id": "455f240a-25c0-4873-aefb-23bb2d75991a",
   "metadata": {},
   "outputs": [
    {
     "data": {
      "text/plain": [
       "array([b'GL000194.1:114519-115365', b'GL000194.1:55758-56597',\n",
       "       b'GL000194.1:58217-58957'], dtype='|S26')"
      ]
     },
     "execution_count": 16,
     "metadata": {},
     "output_type": "execute_result"
    }
   ],
   "source": [
    "z['axis0'][:3]"
   ]
  },
  {
   "cell_type": "code",
   "execution_count": 17,
   "id": "fe940d9f-521a-49c3-9e1b-60c1e699a79a",
   "metadata": {},
   "outputs": [
    {
     "data": {
      "text/plain": [
       "array([b'81cccad8cd81', b'15cb3d85c232', b'a7791bcf1152', b'072790e768b1'],\n",
       "      dtype='|S12')"
      ]
     },
     "execution_count": 17,
     "metadata": {},
     "output_type": "execute_result"
    }
   ],
   "source": [
    "z['axis1'][3:7]"
   ]
  },
  {
   "cell_type": "code",
   "execution_count": 18,
   "id": "c60f8e82-dce7-4951-af52-c97cd1d4041b",
   "metadata": {},
   "outputs": [
    {
     "data": {
      "text/plain": [
       "array([b'GL000194.1:59535-60431', b'GL000195.1:119766-120427',\n",
       "       b'GL000195.1:120736-121603', b'GL000195.1:137437-138345'],\n",
       "      dtype='|S26')"
      ]
     },
     "execution_count": 18,
     "metadata": {},
     "output_type": "execute_result"
    }
   ],
   "source": [
    "z['block0_items'][3:7]"
   ]
  },
  {
   "cell_type": "code",
   "execution_count": 19,
   "id": "60deee36-793a-40d5-8ab1-2f87295484cb",
   "metadata": {},
   "outputs": [],
   "source": [
    "q = train_c.features"
   ]
  },
  {
   "cell_type": "code",
   "execution_count": 20,
   "id": "3ce5b7e1-25b5-416a-a69a-6f3f257b615d",
   "metadata": {},
   "outputs": [
    {
     "data": {
      "text/plain": [
       "array([b'ba7f733a4f75', b'fbcf2443ffb2', b'd80d84ca8e89', b'1ac2049b4c98'],\n",
       "      dtype='|S12')"
      ]
     },
     "execution_count": 20,
     "metadata": {},
     "output_type": "execute_result"
    }
   ],
   "source": [
    "q['axis1'][3:7]"
   ]
  },
  {
   "cell_type": "code",
   "execution_count": 21,
   "id": "4cbc33be-ffc6-4f9c-9598-c96a628ea631",
   "metadata": {},
   "outputs": [
    {
     "data": {
      "text/plain": [
       "Index(['c2150f55becb', '65b7edf8a4da', 'c1b26cb1057b', '917168fa6f83',\n",
       "       '2b29feeca86d', '0fd801488185', '526647a698f8', 'ab8f207a3dec',\n",
       "       '57f730249c87', '08df3dcce25c'],\n",
       "      dtype='object', name='cell_id')"
      ]
     },
     "execution_count": 21,
     "metadata": {},
     "output_type": "execute_result"
    }
   ],
   "source": [
    "df_meta.index[:10]"
   ]
  },
  {
   "cell_type": "code",
   "execution_count": 24,
   "id": "9367ebe7-bc23-4045-b810-c19154484d1a",
   "metadata": {},
   "outputs": [
    {
     "data": {
      "text/plain": [
       "'d80d84ca8e89'"
      ]
     },
     "execution_count": 24,
     "metadata": {},
     "output_type": "execute_result"
    }
   ],
   "source": [
    "train_c.features['axis1'][5].decode(\"utf-8\")"
   ]
  },
  {
   "cell_type": "code",
   "execution_count": null,
   "id": "f67a9586-a374-49fc-8338-75760f709723",
   "metadata": {},
   "outputs": [],
   "source": []
  }
 ],
 "metadata": {
  "kernelspec": {
   "display_name": "Python 3 (ipykernel)",
   "language": "python",
   "name": "python3"
  },
  "language_info": {
   "codemirror_mode": {
    "name": "ipython",
    "version": 3
   },
   "file_extension": ".py",
   "mimetype": "text/x-python",
   "name": "python",
   "nbconvert_exporter": "python",
   "pygments_lexer": "ipython3",
   "version": "3.8.10"
  }
 },
 "nbformat": 4,
 "nbformat_minor": 5
}
