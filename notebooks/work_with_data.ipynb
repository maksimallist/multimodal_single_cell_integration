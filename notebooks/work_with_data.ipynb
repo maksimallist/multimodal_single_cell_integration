{
 "cells": [
  {
   "cell_type": "code",
   "execution_count": 1,
   "id": "2d51a7dd-f1f8-4447-9680-90b61ff9d0b5",
   "metadata": {},
   "outputs": [],
   "source": [
    "from typing import Callable, Dict, List, Optional, Tuple, Union\n",
    "\n",
    "import h5py\n",
    "# не удалять! import hdf5plugin !\n",
    "import hdf5plugin\n",
    "import pandas as pd\n",
    "import torch\n",
    "from torch.utils.data import Dataset"
   ]
  },
  {
   "cell_type": "markdown",
   "id": "50983244-4119-4536-9d8b-3404237f5854",
   "metadata": {},
   "source": [
    "---------------------------------------------------"
   ]
  },
  {
   "cell_type": "code",
   "execution_count": 2,
   "id": "f238e7e9-9416-4999-95fb-9d85ba6736ab",
   "metadata": {},
   "outputs": [],
   "source": [
    "meta_file = '/home/mks/PycharmProjects/multimodal_single_cell_integration/dataset/metadata.csv'\n",
    "df_meta = pd.read_csv(meta_file, index_col='cell_id')"
   ]
  },
  {
   "cell_type": "code",
   "execution_count": 3,
   "id": "dcae7984-d597-4764-98d1-d53638b3a550",
   "metadata": {},
   "outputs": [
    {
     "data": {
      "text/html": [
       "<div>\n",
       "<style scoped>\n",
       "    .dataframe tbody tr th:only-of-type {\n",
       "        vertical-align: middle;\n",
       "    }\n",
       "\n",
       "    .dataframe tbody tr th {\n",
       "        vertical-align: top;\n",
       "    }\n",
       "\n",
       "    .dataframe thead th {\n",
       "        text-align: right;\n",
       "    }\n",
       "</style>\n",
       "<table border=\"1\" class=\"dataframe\">\n",
       "  <thead>\n",
       "    <tr style=\"text-align: right;\">\n",
       "      <th></th>\n",
       "      <th>day</th>\n",
       "      <th>donor</th>\n",
       "      <th>cell_type</th>\n",
       "      <th>technology</th>\n",
       "    </tr>\n",
       "    <tr>\n",
       "      <th>cell_id</th>\n",
       "      <th></th>\n",
       "      <th></th>\n",
       "      <th></th>\n",
       "      <th></th>\n",
       "    </tr>\n",
       "  </thead>\n",
       "  <tbody>\n",
       "    <tr>\n",
       "      <th>e0dde41ed6f2</th>\n",
       "      <td>3</td>\n",
       "      <td>27678</td>\n",
       "      <td>MasP</td>\n",
       "      <td>citeseq</td>\n",
       "    </tr>\n",
       "    <tr>\n",
       "      <th>25b1de7f18f6</th>\n",
       "      <td>3</td>\n",
       "      <td>27678</td>\n",
       "      <td>MkP</td>\n",
       "      <td>citeseq</td>\n",
       "    </tr>\n",
       "    <tr>\n",
       "      <th>59e175749a4c</th>\n",
       "      <td>3</td>\n",
       "      <td>27678</td>\n",
       "      <td>MkP</td>\n",
       "      <td>citeseq</td>\n",
       "    </tr>\n",
       "    <tr>\n",
       "      <th>cc43f415f240</th>\n",
       "      <td>3</td>\n",
       "      <td>27678</td>\n",
       "      <td>NeuP</td>\n",
       "      <td>citeseq</td>\n",
       "    </tr>\n",
       "    <tr>\n",
       "      <th>cf6cb48a1aca</th>\n",
       "      <td>3</td>\n",
       "      <td>27678</td>\n",
       "      <td>HSC</td>\n",
       "      <td>citeseq</td>\n",
       "    </tr>\n",
       "    <tr>\n",
       "      <th>7d03cdc2150c</th>\n",
       "      <td>3</td>\n",
       "      <td>27678</td>\n",
       "      <td>EryP</td>\n",
       "      <td>citeseq</td>\n",
       "    </tr>\n",
       "    <tr>\n",
       "      <th>ed27b16f6b29</th>\n",
       "      <td>3</td>\n",
       "      <td>27678</td>\n",
       "      <td>NeuP</td>\n",
       "      <td>citeseq</td>\n",
       "    </tr>\n",
       "    <tr>\n",
       "      <th>20a5293b5a5f</th>\n",
       "      <td>3</td>\n",
       "      <td>27678</td>\n",
       "      <td>NeuP</td>\n",
       "      <td>citeseq</td>\n",
       "    </tr>\n",
       "    <tr>\n",
       "      <th>9c110ee995b5</th>\n",
       "      <td>3</td>\n",
       "      <td>27678</td>\n",
       "      <td>HSC</td>\n",
       "      <td>citeseq</td>\n",
       "    </tr>\n",
       "    <tr>\n",
       "      <th>655fb0bf81df</th>\n",
       "      <td>3</td>\n",
       "      <td>27678</td>\n",
       "      <td>HSC</td>\n",
       "      <td>citeseq</td>\n",
       "    </tr>\n",
       "  </tbody>\n",
       "</table>\n",
       "</div>"
      ],
      "text/plain": [
       "              day  donor cell_type technology\n",
       "cell_id                                      \n",
       "e0dde41ed6f2    3  27678      MasP    citeseq\n",
       "25b1de7f18f6    3  27678       MkP    citeseq\n",
       "59e175749a4c    3  27678       MkP    citeseq\n",
       "cc43f415f240    3  27678      NeuP    citeseq\n",
       "cf6cb48a1aca    3  27678       HSC    citeseq\n",
       "7d03cdc2150c    3  27678      EryP    citeseq\n",
       "ed27b16f6b29    3  27678      NeuP    citeseq\n",
       "20a5293b5a5f    3  27678      NeuP    citeseq\n",
       "9c110ee995b5    3  27678       HSC    citeseq\n",
       "655fb0bf81df    3  27678       HSC    citeseq"
      ]
     },
     "execution_count": 3,
     "metadata": {},
     "output_type": "execute_result"
    }
   ],
   "source": [
    "df_meta.head(10)"
   ]
  },
  {
   "cell_type": "code",
   "execution_count": 15,
   "id": "599a3d0f-ec1b-4dda-aa8e-acfe6289fb75",
   "metadata": {},
   "outputs": [
    {
     "name": "stdout",
     "output_type": "stream",
     "text": [
      "119191\n",
      "['e0dde41ed6f2', '25b1de7f18f6', '59e175749a4c', 'cc43f415f240', 'cf6cb48a1aca', '7d03cdc2150c', 'ed27b16f6b29', '20a5293b5a5f', '9c110ee995b5', '655fb0bf81df']\n"
     ]
    }
   ],
   "source": [
    "ids = list(df_meta[df_meta['technology'] == 'citeseq'].index)\n",
    "print(len(ids))\n",
    "print(ids[:10])"
   ]
  },
  {
   "cell_type": "markdown",
   "id": "5bde6280-6066-44fc-8aa5-dfbe66f8a887",
   "metadata": {},
   "source": [
    "------------------------------------------------------------------------------"
   ]
  },
  {
   "cell_type": "code",
   "execution_count": 5,
   "id": "21986a06-adaf-4979-9e30-bc4e8852d720",
   "metadata": {},
   "outputs": [],
   "source": [
    "eval_ids = pd.read_csv('/home/mks/PycharmProjects/multimodal_single_cell_integration/dataset/evaluation_ids.csv', index_col='cell_id')"
   ]
  },
  {
   "cell_type": "code",
   "execution_count": 6,
   "id": "292d1867-1213-445a-8b0a-78f831307426",
   "metadata": {},
   "outputs": [],
   "source": [
    "mx = '/home/mks/PycharmProjects/multimodal_single_cell_integration/dataset/train_multi_inputs.h5'\n",
    "my = '/home/mks/PycharmProjects/multimodal_single_cell_integration/dataset/train_multi_targets.h5'\n",
    "cx = '/home/mks/PycharmProjects/multimodal_single_cell_integration/dataset/train_cite_inputs.h5'\n",
    "cy = '/home/mks/PycharmProjects/multimodal_single_cell_integration/dataset/train_cite_targets.h5'"
   ]
  },
  {
   "cell_type": "code",
   "execution_count": 29,
   "id": "3a00cefa-c1b3-4ad3-b1f8-e555b19efa45",
   "metadata": {},
   "outputs": [],
   "source": [
    "test_my = '/home/mks/PycharmProjects/multimodal_single_cell_integration/dataset/test_multi_inputs.h5'\n",
    "test_cy = '/home/mks/PycharmProjects/multimodal_single_cell_integration/dataset/test_cite_inputs.h5'"
   ]
  },
  {
   "cell_type": "markdown",
   "id": "82a5d90e-922c-4141-91d4-d29d7bbe15c8",
   "metadata": {},
   "source": [
    "------------------------------------------------------------------------------"
   ]
  },
  {
   "cell_type": "markdown",
   "id": "4b03b85f-2e28-46d7-9089-16a5700d59f6",
   "metadata": {},
   "source": [
    "## Изучение структуры"
   ]
  },
  {
   "cell_type": "code",
   "execution_count": 8,
   "id": "a317358b-cad8-498a-92cc-b7af82822289",
   "metadata": {},
   "outputs": [],
   "source": [
    "mi_flow = h5py.File(mx, 'r')\n",
    "col_names = list(mi_flow[list(mi_flow.keys())[0]])"
   ]
  },
  {
   "cell_type": "code",
   "execution_count": 9,
   "id": "ef1ee076-cab0-42d3-93cf-8034d39df80f",
   "metadata": {},
   "outputs": [
    {
     "data": {
      "text/plain": [
       "['axis0', 'axis1', 'block0_items', 'block0_values']"
      ]
     },
     "execution_count": 9,
     "metadata": {},
     "output_type": "execute_result"
    }
   ],
   "source": [
    "col_names"
   ]
  },
  {
   "cell_type": "code",
   "execution_count": 12,
   "id": "5f9459d1-e42a-4d4c-8962-06b0dd8735f6",
   "metadata": {},
   "outputs": [
    {
     "data": {
      "text/plain": [
       "(228942,)"
      ]
     },
     "execution_count": 12,
     "metadata": {},
     "output_type": "execute_result"
    }
   ],
   "source": [
    "mi_flow[list(mi_flow.keys())[0]]['axis0'].shape"
   ]
  },
  {
   "cell_type": "code",
   "execution_count": 24,
   "id": "7540bbea-7d4a-4772-9404-671311b67e81",
   "metadata": {},
   "outputs": [
    {
     "data": {
      "text/plain": [
       "b'chr10:100653097-100653634'"
      ]
     },
     "execution_count": 24,
     "metadata": {},
     "output_type": "execute_result"
    }
   ],
   "source": [
    "mi_flow[list(mi_flow.keys())[0]]['axis0'][145]"
   ]
  },
  {
   "cell_type": "code",
   "execution_count": 13,
   "id": "104eb067-ebc1-4bc7-baa7-abf793a53c0f",
   "metadata": {},
   "outputs": [
    {
     "data": {
      "text/plain": [
       "(105942,)"
      ]
     },
     "execution_count": 13,
     "metadata": {},
     "output_type": "execute_result"
    }
   ],
   "source": [
    "mi_flow[list(mi_flow.keys())[0]]['axis1'].shape"
   ]
  },
  {
   "cell_type": "code",
   "execution_count": 17,
   "id": "266c51db-ddb0-4dd0-ad1e-e313edf2f876",
   "metadata": {},
   "outputs": [
    {
     "data": {
      "text/plain": [
       "b'56390cf1b95e'"
      ]
     },
     "execution_count": 17,
     "metadata": {},
     "output_type": "execute_result"
    }
   ],
   "source": [
    "mi_flow[list(mi_flow.keys())[0]]['axis1'][0]"
   ]
  },
  {
   "cell_type": "code",
   "execution_count": 14,
   "id": "33e330a5-7d6b-41e7-ae29-6e3d2560e9a2",
   "metadata": {},
   "outputs": [
    {
     "data": {
      "text/plain": [
       "(228942,)"
      ]
     },
     "execution_count": 14,
     "metadata": {},
     "output_type": "execute_result"
    }
   ],
   "source": [
    "mi_flow[list(mi_flow.keys())[0]]['block0_items'].shape"
   ]
  },
  {
   "cell_type": "code",
   "execution_count": 23,
   "id": "a81358bd-7b39-44d4-a6e3-9baad2647b7c",
   "metadata": {},
   "outputs": [
    {
     "data": {
      "text/plain": [
       "b'chr10:100653097-100653634'"
      ]
     },
     "execution_count": 23,
     "metadata": {},
     "output_type": "execute_result"
    }
   ],
   "source": [
    "mi_flow[list(mi_flow.keys())[0]]['block0_items'][145]"
   ]
  },
  {
   "cell_type": "code",
   "execution_count": 15,
   "id": "e4714755-e4ef-48bc-bf2a-a8ffa6930c9b",
   "metadata": {},
   "outputs": [
    {
     "data": {
      "text/plain": [
       "(105942, 228942)"
      ]
     },
     "execution_count": 15,
     "metadata": {},
     "output_type": "execute_result"
    }
   ],
   "source": [
    "mi_flow[list(mi_flow.keys())[0]]['block0_values'].shape"
   ]
  },
  {
   "cell_type": "code",
   "execution_count": 19,
   "id": "4dc9e878-8198-47a8-b66a-5ceda53385b0",
   "metadata": {},
   "outputs": [
    {
     "data": {
      "text/plain": [
       "array([0., 0., 0., ..., 0., 0., 0.], dtype=float32)"
      ]
     },
     "execution_count": 19,
     "metadata": {},
     "output_type": "execute_result"
    }
   ],
   "source": [
    "mi_flow[list(mi_flow.keys())[0]]['block0_values'][0]"
   ]
  },
  {
   "cell_type": "code",
   "execution_count": 20,
   "id": "4833ea5e-1219-40e1-b28a-0a008b421d00",
   "metadata": {},
   "outputs": [
    {
     "data": {
      "text/plain": [
       "(228942,)"
      ]
     },
     "execution_count": 20,
     "metadata": {},
     "output_type": "execute_result"
    }
   ],
   "source": [
    "mi_flow[list(mi_flow.keys())[0]]['block0_values'][0].shape"
   ]
  },
  {
   "cell_type": "markdown",
   "id": "c7802735-4afd-438e-944f-9243b158adbb",
   "metadata": {},
   "source": [
    "Итак, файл состоит из **названия участка генома, уникального идентификатора клетки, и большой numpy матрицы** являющейся ATAC данными.\n",
    "Строчек в numpy массиве столько же сколько уникальных id клеток, таким образом строчка в матрице является вектором фичей конкретной клетки. Мы подразумеваем что порядок совпадает и сделан без ошибок. Так же у нас есть название для каждого столбца в матрице, указывающее на позицию ATAC фичи, но он полностью совпадает со списком позиций. Информация об участке на днк нам сейчас безполезна. Однако ее тоже можно обрабатывать.\n",
    "\n",
    "**dna_pos:** mi_flow[list(mi_flow.keys())[0]]['axis0'] (список строк в битовом виде)\n",
    "\n",
    "**cell_id:** mi_flow[list(mi_flow.keys())[0]]['axis1'] (список строк в битовом виде)\n",
    "\n",
    "**atac_array:** mi_flow[list(mi_flow.keys())[0]]['block0_values']"
   ]
  },
  {
   "cell_type": "code",
   "execution_count": 25,
   "id": "470c9d58-9d82-4ab9-996b-b97806a75fe4",
   "metadata": {},
   "outputs": [
    {
     "data": {
      "text/plain": [
       "['train_multi_inputs']"
      ]
     },
     "execution_count": 25,
     "metadata": {},
     "output_type": "execute_result"
    }
   ],
   "source": [
    "list(mi_flow.keys())"
   ]
  },
  {
   "cell_type": "markdown",
   "id": "13daad4a-cf6b-4c10-91f9-230610cdf2e1",
   "metadata": {},
   "source": [
    "--------------------------------------------------------"
   ]
  },
  {
   "cell_type": "code",
   "execution_count": 33,
   "id": "73f896fd-25d2-47c3-a3ed-1dcd06d6f646",
   "metadata": {},
   "outputs": [
    {
     "name": "stdout",
     "output_type": "stream",
     "text": [
      "['train_multi_targets']\n"
     ]
    }
   ],
   "source": [
    "my_flow = h5py.File(my, 'r')\n",
    "print(list(my_flow.keys()))"
   ]
  },
  {
   "cell_type": "code",
   "execution_count": 36,
   "id": "cdc0b1e3-582b-4a4e-9f0d-f9a831106e18",
   "metadata": {},
   "outputs": [],
   "source": [
    "col_names = list(my_flow['train_multi_targets'])"
   ]
  },
  {
   "cell_type": "code",
   "execution_count": 37,
   "id": "f4d66a66-cac6-407e-a43a-76f695467840",
   "metadata": {},
   "outputs": [
    {
     "data": {
      "text/plain": [
       "['axis0', 'axis1', 'block0_items', 'block0_values']"
      ]
     },
     "execution_count": 37,
     "metadata": {},
     "output_type": "execute_result"
    }
   ],
   "source": [
    "col_names"
   ]
  },
  {
   "cell_type": "code",
   "execution_count": 38,
   "id": "b35aeb65-85e8-44ac-a05d-81f1571363d9",
   "metadata": {},
   "outputs": [
    {
     "data": {
      "text/plain": [
       "b'ENSG00000121410'"
      ]
     },
     "execution_count": 38,
     "metadata": {},
     "output_type": "execute_result"
    }
   ],
   "source": [
    "my_flow['train_multi_targets']['block0_items'][0]"
   ]
  },
  {
   "cell_type": "code",
   "execution_count": 41,
   "id": "760ff4d2-4cc8-42fb-b703-9cf03205fd1d",
   "metadata": {},
   "outputs": [
    {
     "data": {
      "text/plain": [
       "b'ENSG00000121410'"
      ]
     },
     "execution_count": 41,
     "metadata": {},
     "output_type": "execute_result"
    }
   ],
   "source": [
    "my_flow['train_multi_targets']['axis0'][0]"
   ]
  },
  {
   "cell_type": "markdown",
   "id": "c734e74c-6e13-4e4c-b1dd-aa42f3a3ee87",
   "metadata": {},
   "source": [
    "--------------------------------------------------------"
   ]
  }
 ],
 "metadata": {
  "kernelspec": {
   "display_name": "Python 3 (ipykernel)",
   "language": "python",
   "name": "python3"
  },
  "language_info": {
   "codemirror_mode": {
    "name": "ipython",
    "version": 3
   },
   "file_extension": ".py",
   "mimetype": "text/x-python",
   "name": "python",
   "nbconvert_exporter": "python",
   "pygments_lexer": "ipython3",
   "version": "3.8.10"
  }
 },
 "nbformat": 4,
 "nbformat_minor": 5
}
