{
 "cells": [
  {
   "cell_type": "markdown",
   "id": "3343a147",
   "metadata": {
    "_cell_guid": "b1076dfc-b9ad-4769-8c92-a6c4dae69d19",
    "_uuid": "8f2839f25d086af736a60e9eeb907d3b93b6e0e5",
    "papermill": {
     "duration": 0.006408,
     "end_time": "2022-08-21T00:00:38.723761",
     "exception": false,
     "start_time": "2022-08-21T00:00:38.717353",
     "status": "completed"
    },
    "tags": []
   },
   "source": [
    "# Multiome Quickstart\n",
    "\n",
    "This notebook shows how to cross-validate a baseline model and create a submission for the Multiome part of the *Multimodal Single-Cell Integration* competition without running out of memory.\n",
    "\n",
    "It does not show the EDA - see the separate notebook [MSCI EDA which makes sense ⭐️⭐️⭐️⭐️⭐️](https://www.kaggle.com/ambrosm/msci-eda-which-makes-sense).\n",
    "\n",
    "The baseline model for the other part of the competition (CITEseq) is [here](https://www.kaggle.com/ambrosm/msci-citeseq-quickstart)."
   ]
  },
  {
   "cell_type": "code",
   "execution_count": 1,
   "id": "66667cd3",
   "metadata": {
    "_kg_hide-input": true,
    "papermill": {
     "duration": 1.33831,
     "end_time": "2022-08-21T00:00:40.067426",
     "exception": false,
     "start_time": "2022-08-21T00:00:38.729116",
     "status": "completed"
    },
    "tags": []
   },
   "outputs": [],
   "source": [
    "import os, gc, pickle\n",
    "import pandas as pd\n",
    "import matplotlib.pyplot as plt\n",
    "import numpy as np\n",
    "from colorama import Fore, Back, Style\n",
    "from matplotlib.ticker import MaxNLocator\n",
    "\n",
    "from sklearn.base import BaseEstimator, TransformerMixin\n",
    "from sklearn.model_selection import KFold\n",
    "from sklearn.preprocessing import StandardScaler, scale\n",
    "from sklearn.decomposition import PCA\n",
    "from sklearn.dummy import DummyRegressor\n",
    "from sklearn.pipeline import make_pipeline, Pipeline\n",
    "from sklearn.linear_model import Ridge, LinearRegression\n",
    "from sklearn.metrics import mean_squared_error\n",
    "\n",
    "DATA_DIR = \"/home/mks/PycharmProjects/multimodal_single_cell_integration/dataset\"\n",
    "FP_CELL_METADATA = os.path.join(DATA_DIR,\"metadata.csv\")\n",
    "\n",
    "FP_CITE_TRAIN_INPUTS = os.path.join(DATA_DIR,\"train_cite_inputs.h5\")\n",
    "FP_CITE_TRAIN_TARGETS = os.path.join(DATA_DIR,\"train_cite_targets.h5\")\n",
    "FP_CITE_TEST_INPUTS = os.path.join(DATA_DIR,\"test_cite_inputs.h5\")\n",
    "\n",
    "FP_MULTIOME_TRAIN_INPUTS = os.path.join(DATA_DIR,\"train_multi_inputs.h5\")\n",
    "FP_MULTIOME_TRAIN_TARGETS = os.path.join(DATA_DIR,\"train_multi_targets.h5\")\n",
    "FP_MULTIOME_TEST_INPUTS = os.path.join(DATA_DIR,\"test_multi_inputs.h5\")\n",
    "\n",
    "FP_SUBMISSION = os.path.join(DATA_DIR,\"sample_submission.csv\")\n",
    "FP_EVALUATION_IDS = os.path.join(DATA_DIR,\"evaluation_ids.csv\")"
   ]
  },
  {
   "cell_type": "code",
   "execution_count": 2,
   "id": "574ec701",
   "metadata": {
    "_kg_hide-input": true,
    "papermill": {
     "duration": 14.630883,
     "end_time": "2022-08-21T00:00:54.703739",
     "exception": false,
     "start_time": "2022-08-21T00:00:40.072856",
     "status": "completed"
    },
    "tags": []
   },
   "outputs": [],
   "source": [
    "# If you see a warning \"Failed to establish a new connection\" running this cell,\n",
    "# go to \"Settings\" on the right hand side, \n",
    "# and turn on internet. Note, you need to be phone verified.\n",
    "# We need this library to read HDF files.\n",
    "!pip install --quiet tables"
   ]
  },
  {
   "cell_type": "markdown",
   "id": "65bc9a08",
   "metadata": {
    "papermill": {
     "duration": 0.005208,
     "end_time": "2022-08-21T00:00:54.714637",
     "exception": false,
     "start_time": "2022-08-21T00:00:54.709429",
     "status": "completed"
    },
    "tags": []
   },
   "source": [
    "# Loading the common metadata table\n",
    "\n",
    "The current version of the model is so primitive that it doesn't use the metadata, but we load it anyway."
   ]
  },
  {
   "cell_type": "code",
   "execution_count": 3,
   "id": "b2d93743",
   "metadata": {
    "papermill": {
     "duration": 0.497155,
     "end_time": "2022-08-21T00:00:55.217167",
     "exception": false,
     "start_time": "2022-08-21T00:00:54.720012",
     "status": "completed"
    },
    "tags": []
   },
   "outputs": [
    {
     "data": {
      "text/plain": [
       "((119651, 5), (161877, 5))"
      ]
     },
     "execution_count": 3,
     "metadata": {},
     "output_type": "execute_result"
    }
   ],
   "source": [
    "df_cell = pd.read_csv(FP_CELL_METADATA)\n",
    "df_cell_cite = df_cell[df_cell.technology==\"citeseq\"]\n",
    "df_cell_multi = df_cell[df_cell.technology==\"multiome\"]\n",
    "df_cell_cite.shape, df_cell_multi.shape"
   ]
  },
  {
   "cell_type": "markdown",
   "id": "9864e4f5",
   "metadata": {
    "papermill": {
     "duration": 0.005288,
     "end_time": "2022-08-21T00:00:55.228065",
     "exception": false,
     "start_time": "2022-08-21T00:00:55.222777",
     "status": "completed"
    },
    "tags": []
   },
   "source": [
    "# The scoring function\n",
    "\n",
    "This competition has a special metric: For every row, it computes the Pearson correlation between y_true and y_pred, and then all these correlation coefficients are averaged."
   ]
  },
  {
   "cell_type": "code",
   "execution_count": 4,
   "id": "fb7fbd9b",
   "metadata": {
    "papermill": {
     "duration": 0.017271,
     "end_time": "2022-08-21T00:00:55.250841",
     "exception": false,
     "start_time": "2022-08-21T00:00:55.233570",
     "status": "completed"
    },
    "tags": []
   },
   "outputs": [],
   "source": [
    "def correlation_score(y_true, y_pred):\n",
    "    \"\"\"Scores the predictions according to the competition rules. \n",
    "    \n",
    "    It is assumed that the predictions are not constant.\n",
    "    \n",
    "    Returns the average of each sample's Pearson correlation coefficient\"\"\"\n",
    "    if type(y_true) == pd.DataFrame: y_true = y_true.values\n",
    "    if type(y_pred) == pd.DataFrame: y_pred = y_pred.values\n",
    "    if y_true.shape != y_pred.shape: raise ValueError(\"Shapes are different.\")\n",
    "    corrsum = 0\n",
    "    for i in range(len(y_true)):\n",
    "        corrsum += np.corrcoef(y_true[i], y_pred[i])[1, 0]\n",
    "    return corrsum / len(y_true)\n"
   ]
  },
  {
   "cell_type": "markdown",
   "id": "4f3cca11",
   "metadata": {
    "papermill": {
     "duration": 0.005122,
     "end_time": "2022-08-21T00:00:55.261351",
     "exception": false,
     "start_time": "2022-08-21T00:00:55.256229",
     "status": "completed"
    },
    "tags": []
   },
   "source": [
    "# Preprocessing and cross-validation\n",
    "\n",
    "The Multiome dataset is way too large to fit into 16 GByte RAM:\n",
    "- train inputs:  105942 * 228942 float32 values (97 GByte)\n",
    "- train targets: 105942 *  23418 float32 values (10 GByte)\n",
    "- test inputs:    55935 * 228942 float32 values (13 GByte)\n",
    "\n",
    "To get a result with only 16 GByte RAM, we simplify the problem as follows:\n",
    "- We ignore the complete metadata (donors, days, cell types).\n",
    "- We read only 6000 rows of the training data.\n",
    "- We drop all feature columns which are constant.\n",
    "- Of the remaining columns, we keep only 4000.\n",
    "- We do a PCA and keep only the 4 most important components.\n",
    "- We fit a ridge regression model with 6000\\*4 inputs and 6000\\*23418 targets."
   ]
  },
  {
   "cell_type": "code",
   "execution_count": 5,
   "id": "59b46fed",
   "metadata": {
    "papermill": {
     "duration": 40.208075,
     "end_time": "2022-08-21T00:01:35.474796",
     "exception": false,
     "start_time": "2022-08-21T00:00:55.266721",
     "status": "completed"
    },
    "tags": []
   },
   "outputs": [
    {
     "name": "stdout",
     "output_type": "stream",
     "text": [
      "(6000, 228942)\n",
      "(6000, 213532)\n",
      "(6000, 4000)\n"
     ]
    },
    {
     "data": {
      "image/png": "[encoded data removed]",
      "text/plain": [
       "<Figure size 640x480 with 1 Axes>"
      ]
     },
     "metadata": {},
     "output_type": "display_data"
    },
    {
     "name": "stdout",
     "output_type": "stream",
     "text": [
      "(6000, 4)\n",
      "(6000, 23418)\n"
     ]
    }
   ],
   "source": [
    "#%%time\n",
    "# Preprocessing\n",
    "\n",
    "class PreprocessMultiome(BaseEstimator, TransformerMixin):\n",
    "    columns_to_use = slice(10000, 14000)\n",
    "    \n",
    "    @staticmethod\n",
    "    def take_column_subset(X):\n",
    "        return X[:,PreprocessMultiome.columns_to_use]\n",
    "    \n",
    "    def transform(self, X):\n",
    "        print(X.shape)\n",
    "        X = X[:,~self.all_zero_columns]\n",
    "        print(X.shape)\n",
    "        X = PreprocessMultiome.take_column_subset(X) # use only a part of the columns\n",
    "        print(X.shape)\n",
    "        gc.collect()\n",
    "\n",
    "        X = self.pca.transform(X)\n",
    "        print(X.shape)\n",
    "        return X\n",
    "\n",
    "    def fit_transform(self, X):\n",
    "        print(X.shape)\n",
    "        self.all_zero_columns = (X == 0).all(axis=0)\n",
    "        X = X[:,~self.all_zero_columns]\n",
    "        print(X.shape)\n",
    "        X = PreprocessMultiome.take_column_subset(X) # use only a part of the columns\n",
    "        print(X.shape)\n",
    "        gc.collect()\n",
    "\n",
    "        self.pca = PCA(n_components=4, copy=False, random_state=1)\n",
    "        X = self.pca.fit_transform(X)\n",
    "        plt.plot(self.pca.explained_variance_ratio_.cumsum())\n",
    "        plt.title(\"Cumulative explained variance ratio\")\n",
    "        plt.gca().xaxis.set_major_locator(MaxNLocator(integer=True))\n",
    "        plt.xlabel('PCA component')\n",
    "        plt.ylabel('Cumulative explained variance ratio')\n",
    "        plt.show()\n",
    "        print(X.shape)\n",
    "        return X\n",
    "\n",
    "preprocessor = PreprocessMultiome()\n",
    "\n",
    "multi_train_x = None\n",
    "start, stop = 0, 6000\n",
    "multi_train_x = preprocessor.fit_transform(pd.read_hdf(FP_MULTIOME_TRAIN_INPUTS, start=start, stop=stop).values)\n",
    "\n",
    "multi_train_y = pd.read_hdf(FP_MULTIOME_TRAIN_TARGETS, start=start, stop=stop)\n",
    "y_columns = multi_train_y.columns\n",
    "multi_train_y = multi_train_y.values\n",
    "print(multi_train_y.shape)"
   ]
  },
  {
   "cell_type": "code",
   "execution_count": 6,
   "id": "2c3b0ea6",
   "metadata": {
    "papermill": {
     "duration": 15.90438,
     "end_time": "2022-08-21T00:01:51.385512",
     "exception": false,
     "start_time": "2022-08-21T00:01:35.481132",
     "status": "completed"
    },
    "tags": []
   },
   "outputs": [
    {
     "name": "stdout",
     "output_type": "stream",
     "text": [
      "Fold 0: mse = 1.99765, corr =  0.682\n",
      "Fold 1: mse = 1.99460, corr =  0.681\n",
      "Fold 2: mse = 1.99587, corr =  0.682\n",
      "Fold 3: mse = 1.99645, corr =  0.682\n",
      "Fold 4: mse = 1.99872, corr =  0.681\n",
      "\u001b[32m\u001b[1m(6000, 4) Average  mse = 1.99666; corr = 0.682\u001b[0m\n",
      "CPU times: user 7.32 s, sys: 5.63 s, total: 13 s\n",
      "Wall time: 4.73 s\n"
     ]
    }
   ],
   "source": [
    "%%time\n",
    "# Cross-validation\n",
    "\n",
    "kf = KFold(n_splits=5, shuffle=True, random_state=1)\n",
    "score_list = []\n",
    "for fold, (idx_tr, idx_va) in enumerate(kf.split(multi_train_x)):\n",
    "    model = None\n",
    "    gc.collect()\n",
    "    X_tr = multi_train_x[idx_tr] # creates a copy, https://numpy.org/doc/stable/user/basics.copies.html\n",
    "    y_tr = multi_train_y[idx_tr]\n",
    "    del idx_tr\n",
    "\n",
    "    model = Ridge(copy_X=False)\n",
    "    model.fit(X_tr, y_tr)\n",
    "    del X_tr, y_tr\n",
    "    gc.collect()\n",
    "\n",
    "    # We validate the model\n",
    "    X_va = multi_train_x[idx_va]\n",
    "    y_va = multi_train_y[idx_va]\n",
    "    del idx_va\n",
    "    y_va_pred = model.predict(X_va)\n",
    "    mse = mean_squared_error(y_va, y_va_pred)\n",
    "    corrscore = correlation_score(y_va, y_va_pred)\n",
    "    del X_va, y_va\n",
    "\n",
    "    print(f\"Fold {fold}: mse = {mse:.5f}, corr =  {corrscore:.3f}\")\n",
    "    score_list.append((mse, corrscore))\n",
    "\n",
    "# Show overall score\n",
    "result_df = pd.DataFrame(score_list, columns=['mse', 'corrscore'])\n",
    "print(f\"{Fore.GREEN}{Style.BRIGHT}{multi_train_x.shape} Average  mse = {result_df.mse.mean():.5f}; corr = {result_df.corrscore.mean():.3f}{Style.RESET_ALL}\")\n"
   ]
  },
  {
   "cell_type": "markdown",
   "id": "d8bbeb20",
   "metadata": {
    "papermill": {
     "duration": 0.006283,
     "end_time": "2022-08-21T00:01:51.398391",
     "exception": false,
     "start_time": "2022-08-21T00:01:51.392108",
     "status": "completed"
    },
    "tags": []
   },
   "source": [
    "By the way, this ridge regression is not much better than DummyRegressor, which scores `mse = 2.01718; corr = 0.679`."
   ]
  },
  {
   "cell_type": "markdown",
   "id": "a6f8b127",
   "metadata": {
    "papermill": {
     "duration": 0.006166,
     "end_time": "2022-08-21T00:01:51.410928",
     "exception": false,
     "start_time": "2022-08-21T00:01:51.404762",
     "status": "completed"
    },
    "tags": []
   },
   "source": [
    "# Retraining\n"
   ]
  },
  {
   "cell_type": "code",
   "execution_count": 7,
   "id": "25f1da19",
   "metadata": {
    "papermill": {
     "duration": 0.90027,
     "end_time": "2022-08-21T00:01:52.317744",
     "exception": false,
     "start_time": "2022-08-21T00:01:51.417474",
     "status": "completed"
    },
    "tags": []
   },
   "outputs": [],
   "source": [
    "# We retrain the model and then delete the training data, which is no longer needed\n",
    "model, score_list, result_df = None, None, None # free the RAM occupied by the old model\n",
    "gc.collect()\n",
    "model = Ridge(copy_X=False) # we overwrite the training data\n",
    "model.fit(multi_train_x, multi_train_y)\n",
    "del multi_train_x, multi_train_y # free the RAM\n",
    "_ = gc.collect()\n"
   ]
  },
  {
   "cell_type": "markdown",
   "id": "50ab96c0",
   "metadata": {
    "papermill": {
     "duration": 0.006014,
     "end_time": "2022-08-21T00:01:52.330129",
     "exception": false,
     "start_time": "2022-08-21T00:01:52.324115",
     "status": "completed"
    },
    "tags": []
   },
   "source": [
    "The final submission will contain 65744180 predictions, of which the first 6812820 are CITEseq predictions and the remaining 58931360 are Multiome. \n",
    "\n",
    "The Multiome test predictions have 55935 rows and 23418 columns. 55935 \\* 23418 = 1’309’885’830 predictions. We'll only submit 4.5 % of these predictions. According to the data description, this subset was created by sampling 30 % of the Multiome rows, and for each row, 15 % of the columns (i.e., 16780 rows and 3512 columns per row). Consequently, when reading the test data, we can immediately drop 70 % of the rows and keep only the remaining 16780.\n",
    "\n",
    "The eval_ids table specifies which predictions are required for the submission file."
   ]
  },
  {
   "cell_type": "code",
   "execution_count": 8,
   "id": "e92653fd",
   "metadata": {
    "papermill": {
     "duration": 134.263458,
     "end_time": "2022-08-21T00:04:06.599902",
     "exception": false,
     "start_time": "2022-08-21T00:01:52.336444",
     "status": "completed"
    },
    "tags": []
   },
   "outputs": [
    {
     "data": {
      "text/html": [
       "<div>\n",
       "<style scoped>\n",
       "    .dataframe tbody tr th:only-of-type {\n",
       "        vertical-align: middle;\n",
       "    }\n",
       "\n",
       "    .dataframe tbody tr th {\n",
       "        vertical-align: top;\n",
       "    }\n",
       "\n",
       "    .dataframe thead th {\n",
       "        text-align: right;\n",
       "    }\n",
       "</style>\n",
       "<table border=\"1\" class=\"dataframe\">\n",
       "  <thead>\n",
       "    <tr style=\"text-align: right;\">\n",
       "      <th></th>\n",
       "      <th>cell_id</th>\n",
       "      <th>gene_id</th>\n",
       "    </tr>\n",
       "    <tr>\n",
       "      <th>row_id</th>\n",
       "      <th></th>\n",
       "      <th></th>\n",
       "    </tr>\n",
       "  </thead>\n",
       "  <tbody>\n",
       "    <tr>\n",
       "      <th>0</th>\n",
       "      <td>c2150f55becb</td>\n",
       "      <td>CD86</td>\n",
       "    </tr>\n",
       "    <tr>\n",
       "      <th>1</th>\n",
       "      <td>c2150f55becb</td>\n",
       "      <td>CD274</td>\n",
       "    </tr>\n",
       "    <tr>\n",
       "      <th>2</th>\n",
       "      <td>c2150f55becb</td>\n",
       "      <td>CD270</td>\n",
       "    </tr>\n",
       "    <tr>\n",
       "      <th>3</th>\n",
       "      <td>c2150f55becb</td>\n",
       "      <td>CD155</td>\n",
       "    </tr>\n",
       "    <tr>\n",
       "      <th>4</th>\n",
       "      <td>c2150f55becb</td>\n",
       "      <td>CD112</td>\n",
       "    </tr>\n",
       "    <tr>\n",
       "      <th>...</th>\n",
       "      <td>...</td>\n",
       "      <td>...</td>\n",
       "    </tr>\n",
       "    <tr>\n",
       "      <th>65744175</th>\n",
       "      <td>2c53aa67933d</td>\n",
       "      <td>ENSG00000134419</td>\n",
       "    </tr>\n",
       "    <tr>\n",
       "      <th>65744176</th>\n",
       "      <td>2c53aa67933d</td>\n",
       "      <td>ENSG00000186862</td>\n",
       "    </tr>\n",
       "    <tr>\n",
       "      <th>65744177</th>\n",
       "      <td>2c53aa67933d</td>\n",
       "      <td>ENSG00000170959</td>\n",
       "    </tr>\n",
       "    <tr>\n",
       "      <th>65744178</th>\n",
       "      <td>2c53aa67933d</td>\n",
       "      <td>ENSG00000107874</td>\n",
       "    </tr>\n",
       "    <tr>\n",
       "      <th>65744179</th>\n",
       "      <td>2c53aa67933d</td>\n",
       "      <td>ENSG00000166012</td>\n",
       "    </tr>\n",
       "  </tbody>\n",
       "</table>\n",
       "<p>65744180 rows × 2 columns</p>\n",
       "</div>"
      ],
      "text/plain": [
       "               cell_id          gene_id\n",
       "row_id                                 \n",
       "0         c2150f55becb             CD86\n",
       "1         c2150f55becb            CD274\n",
       "2         c2150f55becb            CD270\n",
       "3         c2150f55becb            CD155\n",
       "4         c2150f55becb            CD112\n",
       "...                ...              ...\n",
       "65744175  2c53aa67933d  ENSG00000134419\n",
       "65744176  2c53aa67933d  ENSG00000186862\n",
       "65744177  2c53aa67933d  ENSG00000170959\n",
       "65744178  2c53aa67933d  ENSG00000107874\n",
       "65744179  2c53aa67933d  ENSG00000166012\n",
       "\n",
       "[65744180 rows x 2 columns]"
      ]
     },
     "metadata": {},
     "output_type": "display_data"
    },
    {
     "name": "stdout",
     "output_type": "stream",
     "text": [
      "CPU times: user 23.5 s, sys: 3.12 s, total: 26.6 s\n",
      "Wall time: 26.6 s\n"
     ]
    }
   ],
   "source": [
    "%%time\n",
    "# Read the table of rows and columns required for submission\n",
    "eval_ids = pd.read_csv(FP_EVALUATION_IDS, index_col='row_id')\n",
    "\n",
    "# Convert the string columns to more efficient categorical types\n",
    "#eval_ids.cell_id = eval_ids.cell_id.apply(lambda s: int(s, base=16))\n",
    "eval_ids.cell_id = eval_ids.cell_id.astype(pd.CategoricalDtype())\n",
    "eval_ids.gene_id = eval_ids.gene_id.astype(pd.CategoricalDtype())\n",
    "display(eval_ids)\n",
    "\n",
    "# Create the set of needed cell_ids\n",
    "cell_id_set = set(eval_ids.cell_id)\n",
    "\n",
    "# Convert the string gene_ids to a more efficient categorical dtype\n",
    "y_columns = pd.CategoricalIndex(y_columns, dtype=eval_ids.gene_id.dtype, name='gene_id')\n"
   ]
  },
  {
   "cell_type": "code",
   "execution_count": 9,
   "id": "026d57f6",
   "metadata": {
    "papermill": {
     "duration": 0.190565,
     "end_time": "2022-08-21T00:04:06.798208",
     "exception": false,
     "start_time": "2022-08-21T00:04:06.607643",
     "status": "completed"
    },
    "tags": []
   },
   "outputs": [
    {
     "data": {
      "text/plain": [
       "cell_id       gene_id        \n",
       "c2150f55becb  CD86              NaN\n",
       "              CD274             NaN\n",
       "              CD270             NaN\n",
       "              CD155             NaN\n",
       "              CD112             NaN\n",
       "                                 ..\n",
       "2c53aa67933d  ENSG00000134419   NaN\n",
       "              ENSG00000186862   NaN\n",
       "              ENSG00000170959   NaN\n",
       "              ENSG00000107874   NaN\n",
       "              ENSG00000166012   NaN\n",
       "Name: target, Length: 65744180, dtype: float32"
      ]
     },
     "execution_count": 9,
     "metadata": {},
     "output_type": "execute_result"
    }
   ],
   "source": [
    "# Prepare an empty series which will be filled with predictions\n",
    "submission = pd.Series(name='target',\n",
    "                       index=pd.MultiIndex.from_frame(eval_ids), \n",
    "                       dtype=np.float32)\n",
    "submission"
   ]
  },
  {
   "cell_type": "markdown",
   "id": "66bb8692",
   "metadata": {
    "papermill": {
     "duration": 0.006577,
     "end_time": "2022-08-21T00:04:06.812125",
     "exception": false,
     "start_time": "2022-08-21T00:04:06.805548",
     "status": "completed"
    },
    "tags": []
   },
   "source": [
    "We now compute the predictions in chunks of 5000 rows and match them with the eval_ids table row by row. The matching is very slow, but space-efficient."
   ]
  },
  {
   "cell_type": "code",
   "execution_count": 10,
   "id": "91addf01",
   "metadata": {
    "papermill": {
     "duration": 4202.122812,
     "end_time": "2022-08-21T01:14:08.941851",
     "exception": false,
     "start_time": "2022-08-21T00:04:06.819039",
     "status": "completed"
    },
    "tags": []
   },
   "outputs": [
    {
     "name": "stdout",
     "output_type": "stream",
     "text": [
      "(1533, 228942)\n",
      "(1533, 213532)\n",
      "(1533, 4000)\n",
      "(1533, 4)\n",
      "na: 60360284\n",
      "1533\n",
      "(1486, 228942)\n",
      "(1486, 213532)\n",
      "(1486, 4000)\n",
      "(1486, 4)\n",
      "na: 55141452\n",
      "3019\n",
      "(1517, 228942)\n",
      "(1517, 213532)\n",
      "(1517, 4000)\n",
      "(1517, 4)\n",
      "na: 49813748\n",
      "4536\n",
      "(1528, 228942)\n",
      "(1528, 213532)\n",
      "(1528, 4000)\n",
      "(1528, 4)\n",
      "na: 44447412\n",
      "6064\n",
      "(1492, 228942)\n",
      "(1492, 213532)\n",
      "(1492, 4000)\n",
      "(1492, 4)\n",
      "na: 39207508\n",
      "7556\n",
      "(1506, 228942)\n",
      "(1506, 213532)\n",
      "(1506, 4000)\n",
      "(1506, 4)\n",
      "na: 33918436\n",
      "9062\n",
      "(1490, 228942)\n",
      "(1490, 213532)\n",
      "(1490, 4000)\n",
      "(1490, 4)\n",
      "na: 28685556\n",
      "10552\n",
      "(1492, 228942)\n",
      "(1492, 213532)\n",
      "(1492, 4000)\n",
      "(1492, 4)\n",
      "na: 23445652\n",
      "12044\n",
      "(1475, 228942)\n",
      "(1475, 213532)\n",
      "(1475, 4000)\n",
      "(1475, 4)\n",
      "na: 18265452\n",
      "13519\n",
      "(1473, 228942)\n",
      "(1473, 213532)\n",
      "(1473, 4000)\n",
      "(1473, 4)\n",
      "na: 13092276\n",
      "14992\n",
      "(1499, 228942)\n",
      "(1499, 213532)\n",
      "(1499, 4000)\n",
      "(1499, 4)\n",
      "na: 7827788\n",
      "16491\n",
      "(289, 228942)\n",
      "(289, 213532)\n",
      "(289, 4000)\n",
      "(289, 4)\n",
      "na: 6812820\n",
      "16780\n"
     ]
    }
   ],
   "source": [
    "# %%time\n",
    "# Process the test data in chunks of 5000 rows\n",
    "\n",
    "start = 0\n",
    "chunksize = 5000\n",
    "total_rows = 0\n",
    "while True:\n",
    "    multi_test_x = None # Free the memory if necessary\n",
    "    gc.collect()\n",
    "    # Read the 5000 rows and select the 30 % subset which is needed for the submission\n",
    "    multi_test_x = pd.read_hdf(FP_MULTIOME_TEST_INPUTS, start=start, stop=start+chunksize)\n",
    "    rows_read = len(multi_test_x)\n",
    "    needed_row_mask = multi_test_x.index.isin(cell_id_set)\n",
    "    multi_test_x = multi_test_x.loc[needed_row_mask]\n",
    "    \n",
    "    # Keep the index (the cell_ids) for later\n",
    "    multi_test_index = multi_test_x.index\n",
    "    \n",
    "    # Predict\n",
    "    multi_test_x = multi_test_x.values\n",
    "    multi_test_x = preprocessor.transform(multi_test_x)\n",
    "    test_pred = model.predict(multi_test_x)\n",
    "    \n",
    "    # Convert the predictions to a dataframe so that they can be matched with eval_ids\n",
    "    test_pred = pd.DataFrame(test_pred,\n",
    "                             index=pd.CategoricalIndex(multi_test_index,\n",
    "                                                       dtype=eval_ids.cell_id.dtype,\n",
    "                                                       name='cell_id'),\n",
    "                             columns=y_columns)\n",
    "    gc.collect()\n",
    "    \n",
    "    # Fill the predictions into the submission series row by row\n",
    "    for i, (index, row) in enumerate(test_pred.iterrows()):\n",
    "        row = row.reindex(eval_ids.gene_id[eval_ids.cell_id == index])\n",
    "        submission.loc[index] = row.values\n",
    "    print('na:', submission.isna().sum())\n",
    "\n",
    "    #test_pred_list.append(test_pred)\n",
    "    total_rows += len(multi_test_x)\n",
    "    print(total_rows)\n",
    "    if rows_read < chunksize: break # this was the last chunk\n",
    "    start += chunksize\n",
    "    \n",
    "del multi_test_x, multi_test_index, needed_row_mask\n"
   ]
  },
  {
   "cell_type": "code",
   "execution_count": null,
   "id": "e1043a6d-32b9-466c-92f0-208d4c85d170",
   "metadata": {},
   "outputs": [],
   "source": []
  },
  {
   "cell_type": "markdown",
   "id": "52bfd827",
   "metadata": {
    "papermill": {
     "duration": 0.008915,
     "end_time": "2022-08-21T01:14:08.959885",
     "exception": false,
     "start_time": "2022-08-21T01:14:08.950970",
     "status": "completed"
    },
    "tags": []
   },
   "source": [
    "# Submission\n",
    "\n",
    "As we don't yet have the CITEseq predictions, we save the partial predictions so that they can be used in the [CITEseq notebook](https://www.kaggle.com/ambrosm/msci-citeseq-quickstart)."
   ]
  },
  {
   "cell_type": "code",
   "execution_count": 11,
   "id": "b631a21b",
   "metadata": {
    "papermill": {
     "duration": 0.604043,
     "end_time": "2022-08-21T01:14:09.573848",
     "exception": false,
     "start_time": "2022-08-21T01:14:08.969805",
     "status": "completed"
    },
    "tags": []
   },
   "outputs": [
    {
     "data": {
      "text/plain": [
       "row_id\n",
       "0                NaN\n",
       "1                NaN\n",
       "2                NaN\n",
       "3                NaN\n",
       "4                NaN\n",
       "              ...   \n",
       "65744175    7.271666\n",
       "65744176    0.017597\n",
       "65744177    0.025040\n",
       "65744178    1.933744\n",
       "65744179    5.111444\n",
       "Name: target, Length: 65744180, dtype: float32"
      ]
     },
     "execution_count": 11,
     "metadata": {},
     "output_type": "execute_result"
    }
   ],
   "source": [
    "submission.reset_index(drop=True, inplace=True)\n",
    "submission.index.name = 'row_id'\n",
    "with open(\"partial_submission_multi.pickle\", 'wb') as f: pickle.dump(submission, f)\n",
    "submission"
   ]
  },
  {
   "cell_type": "code",
   "execution_count": null,
   "id": "e1672c73",
   "metadata": {
    "papermill": {
     "duration": 0.009572,
     "end_time": "2022-08-21T01:14:09.592892",
     "exception": false,
     "start_time": "2022-08-21T01:14:09.583320",
     "status": "completed"
    },
    "tags": []
   },
   "outputs": [],
   "source": []
  }
 ],
 "metadata": {
  "kernelspec": {
   "display_name": "Python 3 (ipykernel)",
   "language": "python",
   "name": "python3"
  },
  "language_info": {
   "codemirror_mode": {
    "name": "ipython",
    "version": 3
   },
   "file_extension": ".py",
   "mimetype": "text/x-python",
   "name": "python",
   "nbconvert_exporter": "python",
   "pygments_lexer": "ipython3",
   "version": "3.8.10"
  },
  "papermill": {
   "default_parameters": {},
   "duration": 4421.801469,
   "end_time": "2022-08-21T01:14:10.737421",
   "environment_variables": {},
   "exception": null,
   "input_path": "__notebook__.ipynb",
   "output_path": "__notebook__.ipynb",
   "parameters": {},
   "start_time": "2022-08-21T00:00:28.935952",
   "version": "2.3.4"
  }
 },
 "nbformat": 4,
 "nbformat_minor": 5
}
