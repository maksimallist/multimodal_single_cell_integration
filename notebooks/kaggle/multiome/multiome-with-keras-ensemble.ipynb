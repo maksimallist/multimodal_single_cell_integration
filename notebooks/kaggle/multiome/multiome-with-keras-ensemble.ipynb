{
 "cells": [
  {
   "cell_type": "markdown",
   "id": "52c33820",
   "metadata": {
    "papermill": {
     "duration": 0.01057,
     "end_time": "2022-09-18T09:09:50.788643",
     "exception": false,
     "start_time": "2022-09-18T09:09:50.778073",
     "status": "completed"
    },
    "tags": []
   },
   "source": [
    "## KERAS for Multiome\n",
    "\n",
    "Ideas and code from :\n",
    "\n",
    "https://www.kaggle.com/code/xiafire/lb-t15-msci-multiome-catboostregressor\n",
    "\n",
    "https://www.kaggle.com/code/ambrosm/msci-citeseq-keras-quickstart\n",
    "\n",
    "dataset from :\n",
    "\n",
    "https://www.kaggle.com/datasets/fabiencrom/multimodal-single-cell-as-sparse-matrix\n",
    "\n",
    "\n",
    "My appologies for the Kagglers not mentioned."
   ]
  },
  {
   "cell_type": "code",
   "execution_count": 1,
   "id": "da900dc9",
   "metadata": {
    "collapsed": true,
    "execution": {
     "iopub.execute_input": "2022-09-18T09:09:50.808228Z",
     "iopub.status.busy": "2022-09-18T09:09:50.807301Z",
     "iopub.status.idle": "2022-09-18T09:10:03.693863Z",
     "shell.execute_reply": "2022-09-18T09:10:03.692864Z"
    },
    "jupyter": {
     "outputs_hidden": true
    },
    "papermill": {
     "duration": 12.899707,
     "end_time": "2022-09-18T09:10:03.696903",
     "exception": false,
     "start_time": "2022-09-18T09:09:50.797196",
     "status": "completed"
    },
    "tags": []
   },
   "outputs": [
    {
     "name": "stdout",
     "output_type": "stream",
     "text": [
      "Requirement already satisfied: tables in /opt/conda/lib/python3.7/site-packages (3.7.0)\n",
      "Requirement already satisfied: numexpr>=2.6.2 in /opt/conda/lib/python3.7/site-packages (from tables) (2.8.3)\n",
      "Requirement already satisfied: numpy>=1.19.0 in /opt/conda/lib/python3.7/site-packages (from tables) (1.21.6)\n",
      "Requirement already satisfied: packaging in /opt/conda/lib/python3.7/site-packages (from tables) (21.3)\n",
      "Requirement already satisfied: pyparsing!=3.0.5,>=2.0.2 in /opt/conda/lib/python3.7/site-packages (from packaging->tables) (3.0.9)\n",
      "\u001b[33mWARNING: Running pip as the 'root' user can result in broken permissions and conflicting behaviour with the system package manager. It is recommended to use a virtual environment instead: https://pip.pypa.io/warnings/venv\u001b[0m\u001b[33m\n",
      "\u001b[0m"
     ]
    }
   ],
   "source": [
    "! pip install tables"
   ]
  },
  {
   "cell_type": "code",
   "execution_count": 2,
   "id": "3d9d457f",
   "metadata": {
    "_kg_hide-input": true,
    "execution": {
     "iopub.execute_input": "2022-09-18T09:10:03.715529Z",
     "iopub.status.busy": "2022-09-18T09:10:03.715100Z",
     "iopub.status.idle": "2022-09-18T09:10:05.178888Z",
     "shell.execute_reply": "2022-09-18T09:10:05.177527Z"
    },
    "papermill": {
     "duration": 1.476942,
     "end_time": "2022-09-18T09:10:05.182204",
     "exception": false,
     "start_time": "2022-09-18T09:10:03.705262",
     "status": "completed"
    },
    "tags": []
   },
   "outputs": [],
   "source": [
    "import gc,os,pickle\n",
    "\n",
    "import pandas as pd\n",
    "import numpy as np\n",
    "\n",
    "import glob\n",
    "from tqdm.notebook import tqdm\n",
    "\n",
    "from sklearn.model_selection import KFold\n",
    "from sklearn.decomposition import TruncatedSVD\n",
    "from sklearn.metrics import mean_squared_error\n",
    "\n",
    "import time\n",
    "import psutil\n",
    "import tables\n",
    "\n",
    "import scipy.sparse"
   ]
  },
  {
   "cell_type": "markdown",
   "id": "4f44b0fa",
   "metadata": {
    "papermill": {
     "duration": 0.010827,
     "end_time": "2022-09-18T09:10:05.204582",
     "exception": false,
     "start_time": "2022-09-18T09:10:05.193755",
     "status": "completed"
    },
    "tags": []
   },
   "source": [
    "## Target already normalized and reduced\n",
    "Due to memory limitation, the target has been normalized and reduced by TruncatedSVD (n_comp = 128) in another Notebook and available in the dataset '../input/targets-multiome-sparse-scaled/'"
   ]
  },
  {
   "cell_type": "code",
   "execution_count": 3,
   "id": "0491b110",
   "metadata": {
    "execution": {
     "iopub.execute_input": "2022-09-18T09:10:05.228563Z",
     "iopub.status.busy": "2022-09-18T09:10:05.228147Z",
     "iopub.status.idle": "2022-09-18T09:10:06.316648Z",
     "shell.execute_reply": "2022-09-18T09:10:06.315433Z"
    },
    "papermill": {
     "duration": 1.103532,
     "end_time": "2022-09-18T09:10:06.319330",
     "exception": false,
     "start_time": "2022-09-18T09:10:05.215798",
     "status": "completed"
    },
    "tags": []
   },
   "outputs": [
    {
     "name": "stdout",
     "output_type": "stream",
     "text": [
      "CPU times: user 16.3 ms, sys: 117 ms, total: 133 ms\n",
      "Wall time: 1.08 s\n"
     ]
    },
    {
     "data": {
      "text/plain": [
       "(105942, 128)"
      ]
     },
     "execution_count": 3,
     "metadata": {},
     "output_type": "execute_result"
    }
   ],
   "source": [
    "%%time\n",
    "with open('../input/targets-multiome-sparse-scaled/Y.pkl','rb') as f: Y = pickle.load(f)\n",
    "Y.shape"
   ]
  },
  {
   "cell_type": "markdown",
   "id": "df1cf258",
   "metadata": {
    "papermill": {
     "duration": 0.008284,
     "end_time": "2022-09-18T09:10:06.337548",
     "exception": false,
     "start_time": "2022-09-18T09:10:06.329264",
     "status": "completed"
    },
    "tags": []
   },
   "source": [
    "## Target dimension reduction "
   ]
  },
  {
   "cell_type": "code",
   "execution_count": 4,
   "id": "c3bff629",
   "metadata": {
    "execution": {
     "iopub.execute_input": "2022-09-18T09:10:06.355342Z",
     "iopub.status.busy": "2022-09-18T09:10:06.354967Z",
     "iopub.status.idle": "2022-09-18T09:10:06.593386Z",
     "shell.execute_reply": "2022-09-18T09:10:06.591906Z"
    },
    "papermill": {
     "duration": 0.250336,
     "end_time": "2022-09-18T09:10:06.595991",
     "exception": false,
     "start_time": "2022-09-18T09:10:06.345655",
     "status": "completed"
    },
    "tags": []
   },
   "outputs": [
    {
     "name": "stderr",
     "output_type": "stream",
     "text": [
      "/opt/conda/lib/python3.7/site-packages/sklearn/base.py:338: UserWarning: Trying to unpickle estimator TruncatedSVD from version 1.1.1 when using version 1.0.2. This might lead to breaking code or invalid results. Use at your own risk. For more info please refer to:\n",
      "https://scikit-learn.org/stable/modules/model_persistence.html#security-maintainability-limitations\n",
      "  UserWarning,\n"
     ]
    },
    {
     "data": {
      "text/plain": [
       "TruncatedSVD(n_components=128, random_state=42)"
      ]
     },
     "execution_count": 4,
     "metadata": {},
     "output_type": "execute_result"
    }
   ],
   "source": [
    "with open('../input/targets-multiome-sparse-scaled/pca_target.pkl','rb') as f: pca_target = pickle.load(f)\n",
    "pca_target"
   ]
  },
  {
   "cell_type": "markdown",
   "id": "f4e65a05",
   "metadata": {
    "papermill": {
     "duration": 0.008387,
     "end_time": "2022-09-18T09:10:06.613210",
     "exception": false,
     "start_time": "2022-09-18T09:10:06.604823",
     "status": "completed"
    },
    "tags": []
   },
   "source": [
    "## Train dimension reduction"
   ]
  },
  {
   "cell_type": "code",
   "execution_count": 5,
   "id": "6898c5e2",
   "metadata": {
    "execution": {
     "iopub.execute_input": "2022-09-18T09:10:06.632050Z",
     "iopub.status.busy": "2022-09-18T09:10:06.631583Z",
     "iopub.status.idle": "2022-09-18T09:11:13.205393Z",
     "shell.execute_reply": "2022-09-18T09:11:13.203275Z"
    },
    "papermill": {
     "duration": 66.600076,
     "end_time": "2022-09-18T09:11:13.221823",
     "exception": false,
     "start_time": "2022-09-18T09:10:06.621747",
     "status": "completed"
    },
    "tags": []
   },
   "outputs": [
    {
     "name": "stdout",
     "output_type": "stream",
     "text": [
      "CPU times: user 39.3 s, sys: 3.98 s, total: 43.3 s\n",
      "Wall time: 1min 6s\n"
     ]
    }
   ],
   "source": [
    "%%time\n",
    "train = scipy.sparse.load_npz(\"../input/multimodal-single-cell-as-sparse-matrix/train_multi_inputs_values.sparse.npz\")\n",
    "train = train.astype('float16',copy = False)"
   ]
  },
  {
   "cell_type": "code",
   "execution_count": 6,
   "id": "6d7eecbe",
   "metadata": {
    "execution": {
     "iopub.execute_input": "2022-09-18T09:11:13.242665Z",
     "iopub.status.busy": "2022-09-18T09:11:13.242215Z",
     "iopub.status.idle": "2022-09-18T09:35:09.756785Z",
     "shell.execute_reply": "2022-09-18T09:35:09.755222Z"
    },
    "papermill": {
     "duration": 1436.540748,
     "end_time": "2022-09-18T09:35:09.771743",
     "exception": false,
     "start_time": "2022-09-18T09:11:13.230995",
     "status": "completed"
    },
    "tags": []
   },
   "outputs": [
    {
     "name": "stdout",
     "output_type": "stream",
     "text": [
      "CPU times: user 23min 58s, sys: 18 s, total: 24min 16s\n",
      "Wall time: 23min 56s\n"
     ]
    }
   ],
   "source": [
    "%%time\n",
    "pca_train = TruncatedSVD(n_components=128, random_state=42)\n",
    "train = pca_train.fit_transform(train)"
   ]
  },
  {
   "cell_type": "code",
   "execution_count": 7,
   "id": "d7a15772",
   "metadata": {
    "execution": {
     "iopub.execute_input": "2022-09-18T09:35:09.791428Z",
     "iopub.status.busy": "2022-09-18T09:35:09.790968Z",
     "iopub.status.idle": "2022-09-18T09:35:09.799716Z",
     "shell.execute_reply": "2022-09-18T09:35:09.798654Z"
    },
    "papermill": {
     "duration": 0.02165,
     "end_time": "2022-09-18T09:35:09.802182",
     "exception": false,
     "start_time": "2022-09-18T09:35:09.780532",
     "status": "completed"
    },
    "tags": []
   },
   "outputs": [
    {
     "data": {
      "text/plain": [
       "((105942, 128), (105942, 128))"
      ]
     },
     "execution_count": 7,
     "metadata": {},
     "output_type": "execute_result"
    }
   ],
   "source": [
    "train.shape, Y.shape"
   ]
  },
  {
   "cell_type": "markdown",
   "id": "047d7864",
   "metadata": {
    "papermill": {
     "duration": 0.008399,
     "end_time": "2022-09-18T09:35:09.819211",
     "exception": false,
     "start_time": "2022-09-18T09:35:09.810812",
     "status": "completed"
    },
    "tags": []
   },
   "source": [
    "## Tensorflow Keras librairies"
   ]
  },
  {
   "cell_type": "code",
   "execution_count": 8,
   "id": "d174e61c",
   "metadata": {
    "execution": {
     "iopub.execute_input": "2022-09-18T09:35:09.838175Z",
     "iopub.status.busy": "2022-09-18T09:35:09.837753Z",
     "iopub.status.idle": "2022-09-18T09:35:16.759755Z",
     "shell.execute_reply": "2022-09-18T09:35:16.758791Z"
    },
    "papermill": {
     "duration": 6.934516,
     "end_time": "2022-09-18T09:35:16.762319",
     "exception": false,
     "start_time": "2022-09-18T09:35:09.827803",
     "status": "completed"
    },
    "tags": []
   },
   "outputs": [],
   "source": [
    "import tensorflow as tf\n",
    "from tensorflow.keras.models import Model\n",
    "from tensorflow.keras.callbacks import ReduceLROnPlateau, EarlyStopping\n",
    "from tensorflow.keras.layers import Dense, Input, Dropout, Concatenate,BatchNormalization"
   ]
  },
  {
   "cell_type": "markdown",
   "id": "d98becf2",
   "metadata": {
    "papermill": {
     "duration": 0.008167,
     "end_time": "2022-09-18T09:35:16.779162",
     "exception": false,
     "start_time": "2022-09-18T09:35:16.770995",
     "status": "completed"
    },
    "tags": []
   },
   "source": [
    "## Metrics"
   ]
  },
  {
   "cell_type": "code",
   "execution_count": 9,
   "id": "b2ac02ae",
   "metadata": {
    "execution": {
     "iopub.execute_input": "2022-09-18T09:35:16.798552Z",
     "iopub.status.busy": "2022-09-18T09:35:16.797831Z",
     "iopub.status.idle": "2022-09-18T09:35:16.804854Z",
     "shell.execute_reply": "2022-09-18T09:35:16.803615Z"
    },
    "papermill": {
     "duration": 0.019502,
     "end_time": "2022-09-18T09:35:16.807281",
     "exception": false,
     "start_time": "2022-09-18T09:35:16.787779",
     "status": "completed"
    },
    "tags": []
   },
   "outputs": [],
   "source": [
    "def correlation_score(y_true, y_pred):\n",
    "\n",
    "    if type(y_true) == pd.DataFrame: y_true = y_true.values\n",
    "    if type(y_pred) == pd.DataFrame: y_pred = y_pred.values\n",
    "    corrsum = 0\n",
    "    for i in range(len(y_true)):\n",
    "        corrsum += np.corrcoef(y_true[i], y_pred[i])[1, 0]\n",
    "    return corrsum / len(y_true)"
   ]
  },
  {
   "cell_type": "markdown",
   "id": "83a5063d",
   "metadata": {
    "papermill": {
     "duration": 0.008264,
     "end_time": "2022-09-18T09:35:16.824564",
     "exception": false,
     "start_time": "2022-09-18T09:35:16.816300",
     "status": "completed"
    },
    "tags": []
   },
   "source": [
    "## Model and parameters"
   ]
  },
  {
   "cell_type": "code",
   "execution_count": 10,
   "id": "eb53b6d1",
   "metadata": {
    "execution": {
     "iopub.execute_input": "2022-09-18T09:35:16.843399Z",
     "iopub.status.busy": "2022-09-18T09:35:16.843020Z",
     "iopub.status.idle": "2022-09-18T09:35:16.849031Z",
     "shell.execute_reply": "2022-09-18T09:35:16.847853Z"
    },
    "papermill": {
     "duration": 0.018144,
     "end_time": "2022-09-18T09:35:16.851235",
     "exception": false,
     "start_time": "2022-09-18T09:35:16.833091",
     "status": "completed"
    },
    "tags": []
   },
   "outputs": [],
   "source": [
    "plateau = tf.keras.callbacks.ReduceLROnPlateau(\n",
    "    monitor=\"val_loss\",\n",
    "    factor=0.5,\n",
    "    patience=2,\n",
    "    verbose=0,\n",
    "    mode=\"min\",\n",
    "    min_delta=1e-7\n",
    ")\n",
    "es = tf.keras.callbacks.EarlyStopping(\n",
    "    monitor=\"val_loss\",\n",
    "    min_delta=1e-7,\n",
    "    patience=10,\n",
    "    verbose=0,\n",
    "    mode=\"min\",\n",
    "    restore_best_weights=True,\n",
    ")"
   ]
  },
  {
   "cell_type": "code",
   "execution_count": 11,
   "id": "846bad74",
   "metadata": {
    "execution": {
     "iopub.execute_input": "2022-09-18T09:35:16.870595Z",
     "iopub.status.busy": "2022-09-18T09:35:16.869653Z",
     "iopub.status.idle": "2022-09-18T09:35:17.053645Z",
     "shell.execute_reply": "2022-09-18T09:35:17.052814Z"
    },
    "papermill": {
     "duration": 0.196149,
     "end_time": "2022-09-18T09:35:17.055877",
     "exception": false,
     "start_time": "2022-09-18T09:35:16.859728",
     "status": "completed"
    },
    "tags": []
   },
   "outputs": [
    {
     "data": {
      "text/plain": [
       "85"
      ]
     },
     "execution_count": 11,
     "metadata": {},
     "output_type": "execute_result"
    }
   ],
   "source": [
    "# Architecture from AmbrosM used for CITEseq\n",
    "\n",
    "def create_model():\n",
    "\n",
    "    activation = 'selu'\n",
    "    \n",
    "    inputs = Input(shape= train.shape[1])\n",
    "\n",
    "    x0 = Dense(units = 256, \n",
    "              activation = activation,\n",
    "             )(inputs)\n",
    "    \n",
    "    x1 = Dense(units = 256, \n",
    "              activation = activation,\n",
    "                )(x0)\n",
    "    \n",
    "    x2 = Dense(units = 256, \n",
    "              activation = activation,\n",
    "             )(x1)\n",
    "\n",
    "    \n",
    "    x3 = Dense(units = 128, \n",
    "              activation = activation,\n",
    "             )(x2)\n",
    "    \n",
    "    x = Concatenate()([\n",
    "                        x0, \n",
    "                        x1, \n",
    "                        x2, \n",
    "                        x3\n",
    "                      ])\n",
    "    \n",
    "    x = Dense(units =Y.shape[1], \n",
    "              activation = 'linear',\n",
    "             )(x)\n",
    "    \n",
    "    model = Model(inputs, x)\n",
    "    \n",
    "    return model\n",
    "\n",
    "gc.collect()"
   ]
  },
  {
   "cell_type": "code",
   "execution_count": 12,
   "id": "9d99b309",
   "metadata": {
    "execution": {
     "iopub.execute_input": "2022-09-18T09:35:17.076062Z",
     "iopub.status.busy": "2022-09-18T09:35:17.074634Z",
     "iopub.status.idle": "2022-09-18T09:35:17.252981Z",
     "shell.execute_reply": "2022-09-18T09:35:17.251874Z"
    },
    "papermill": {
     "duration": 0.190886,
     "end_time": "2022-09-18T09:35:17.255467",
     "exception": false,
     "start_time": "2022-09-18T09:35:17.064581",
     "status": "completed"
    },
    "tags": []
   },
   "outputs": [
    {
     "data": {
      "text/plain": [
       "21"
      ]
     },
     "execution_count": 12,
     "metadata": {},
     "output_type": "execute_result"
    }
   ],
   "source": [
    "gc.collect()"
   ]
  },
  {
   "cell_type": "markdown",
   "id": "3e5578db",
   "metadata": {
    "papermill": {
     "duration": 0.008555,
     "end_time": "2022-09-18T09:35:17.272892",
     "exception": false,
     "start_time": "2022-09-18T09:35:17.264337",
     "status": "completed"
    },
    "tags": []
   },
   "source": [
    "## Training"
   ]
  },
  {
   "cell_type": "code",
   "execution_count": 13,
   "id": "9c4fbd09",
   "metadata": {
    "execution": {
     "iopub.execute_input": "2022-09-18T09:35:17.292748Z",
     "iopub.status.busy": "2022-09-18T09:35:17.291888Z",
     "iopub.status.idle": "2022-09-18T09:47:07.871850Z",
     "shell.execute_reply": "2022-09-18T09:47:07.870329Z"
    },
    "papermill": {
     "duration": 710.592899,
     "end_time": "2022-09-18T09:47:07.874610",
     "exception": false,
     "start_time": "2022-09-18T09:35:17.281711",
     "status": "completed"
    },
    "tags": []
   },
   "outputs": [
    {
     "name": "stderr",
     "output_type": "stream",
     "text": [
      "2022-09-18 09:35:17.418460: I tensorflow/core/common_runtime/process_util.cc:146] Creating new thread pool with default inter op setting: 2. Tune using inter_op_parallelism_threads for best performance.\n",
      "2022-09-18 09:35:17.786310: I tensorflow/compiler/mlir/mlir_graph_optimization_pass.cc:185] None of the MLIR Optimization Passes are enabled (registered 2)\n"
     ]
    },
    {
     "name": "stdout",
     "output_type": "stream",
     "text": [
      "\n",
      " --------- FOLD 0 -----------\n",
      "Mean squared error = 3.609999895095825\n"
     ]
    },
    {
     "name": "stderr",
     "output_type": "stream",
     "text": [
      "2022-09-18 09:37:33.588257: W tensorflow/python/util/util.cc:348] Sets are not currently considered sequences, but this may change in the future, so consider avoiding using them.\n"
     ]
    },
    {
     "name": "stdout",
     "output_type": "stream",
     "text": [
      "model saved : model_0\n",
      "\n",
      " --------- FOLD 1 -----------\n",
      "Mean squared error = 3.609999895095825\n",
      "model saved : model_1\n",
      "\n",
      " --------- FOLD 2 -----------\n",
      "Mean squared error = 3.609999895095825\n",
      "model saved : model_2\n",
      "\n",
      " --------- FOLD 3 -----------\n",
      "Mean squared error = 3.630000114440918\n",
      "model saved : model_3\n",
      "\n",
      " --------- FOLD 4 -----------\n",
      "Mean squared error = 3.619999885559082\n",
      "model saved : model_4\n"
     ]
    }
   ],
   "source": [
    "import warnings\n",
    "warnings.filterwarnings(\"ignore\")\n",
    "\n",
    "N_SPLIT = 5\n",
    "kf = KFold(n_splits=N_SPLIT, shuffle=True, random_state=42)\n",
    "\n",
    "for fold,(idx_tr, idx_va) in enumerate(kf.split(train)):\n",
    "    \n",
    "    X_tr = train[idx_tr]\n",
    "    y_tr = Y[idx_tr]\n",
    "    \n",
    "    X_va = train[idx_va]\n",
    "    y_va = Y[idx_va] \n",
    "    \n",
    "    model = create_model()\n",
    "\n",
    "    model.compile(optimizer=tf.keras.optimizers.Adam(learning_rate=1e-2),\n",
    "                  loss = 'mse',\n",
    "                  metrics=None)\n",
    "    model.fit(X_tr,\n",
    "              y_tr,\n",
    "              validation_data=(X_va,y_va),\n",
    "              epochs =1000,\n",
    "              verbose = 0,\n",
    "              batch_size=256,\n",
    "              callbacks = [es,plateau]\n",
    "             )\n",
    "    pred = model.predict(X_va)\n",
    "    \n",
    "    print(f'\\n --------- FOLD {fold} -----------')\n",
    "    print(f'Mean squared error = {np.round(mean_squared_error(y_va,pred),2)}')\n",
    "   \n",
    "    filename = f\"model_{fold}\"\n",
    "    model.save(filename)\n",
    "    print('model saved :',filename)\n",
    "        \n",
    "    del X_tr,X_va,y_tr,y_va\n",
    "    gc.collect()"
   ]
  },
  {
   "cell_type": "markdown",
   "id": "a53299cd",
   "metadata": {
    "papermill": {
     "duration": 0.00969,
     "end_time": "2022-09-18T09:47:07.894497",
     "exception": false,
     "start_time": "2022-09-18T09:47:07.884807",
     "status": "completed"
    },
    "tags": []
   },
   "source": [
    "## Test prediction"
   ]
  },
  {
   "cell_type": "code",
   "execution_count": 14,
   "id": "cc8a3028",
   "metadata": {
    "execution": {
     "iopub.execute_input": "2022-09-18T09:47:07.916895Z",
     "iopub.status.busy": "2022-09-18T09:47:07.915593Z",
     "iopub.status.idle": "2022-09-18T09:48:30.503431Z",
     "shell.execute_reply": "2022-09-18T09:48:30.502166Z"
    },
    "papermill": {
     "duration": 82.612795,
     "end_time": "2022-09-18T09:48:30.517157",
     "exception": false,
     "start_time": "2022-09-18T09:47:07.904362",
     "status": "completed"
    },
    "tags": []
   },
   "outputs": [
    {
     "name": "stdout",
     "output_type": "stream",
     "text": [
      "CPU times: user 1min 3s, sys: 2.15 s, total: 1min 5s\n",
      "Wall time: 1min 22s\n"
     ]
    },
    {
     "data": {
      "text/plain": [
       "(55935, 128)"
      ]
     },
     "execution_count": 14,
     "metadata": {},
     "output_type": "execute_result"
    }
   ],
   "source": [
    "%%time\n",
    "multi_test_x = scipy.sparse.load_npz(\"../input/multimodal-single-cell-as-sparse-matrix/test_multi_inputs_values.sparse.npz\")\n",
    "multi_test_x = pca_train.transform(multi_test_x)\n",
    "multi_test_x.shape"
   ]
  },
  {
   "cell_type": "code",
   "execution_count": 15,
   "id": "bf4df3f0",
   "metadata": {
    "execution": {
     "iopub.execute_input": "2022-09-18T09:48:30.539284Z",
     "iopub.status.busy": "2022-09-18T09:48:30.538560Z",
     "iopub.status.idle": "2022-09-18T09:50:04.524827Z",
     "shell.execute_reply": "2022-09-18T09:50:04.523515Z"
    },
    "papermill": {
     "duration": 94.010468,
     "end_time": "2022-09-18T09:50:04.537453",
     "exception": false,
     "start_time": "2022-09-18T09:48:30.526985",
     "status": "completed"
    },
    "tags": []
   },
   "outputs": [
    {
     "name": "stdout",
     "output_type": "stream",
     "text": [
      "fold 0 prediction\n",
      "fold 1 prediction\n",
      "fold 2 prediction\n",
      "fold 3 prediction\n",
      "fold 4 prediction\n"
     ]
    }
   ],
   "source": [
    "preds = np.zeros((multi_test_x.shape[0], 23418), dtype='float16')\n",
    "\n",
    "for fold in range(N_SPLIT):\n",
    "    print(f'fold {fold} prediction')\n",
    "    model = tf.keras.models.load_model(f\"model_{fold}\")\n",
    "    preds += (model.predict(multi_test_x)@pca_target.components_)/N_SPLIT\n",
    "    gc.collect()"
   ]
  },
  {
   "cell_type": "markdown",
   "id": "7911901c",
   "metadata": {
    "papermill": {
     "duration": 0.010189,
     "end_time": "2022-09-18T09:50:04.557983",
     "exception": false,
     "start_time": "2022-09-18T09:50:04.547794",
     "status": "completed"
    },
    "tags": []
   },
   "source": [
    "# Submission preparation"
   ]
  },
  {
   "cell_type": "code",
   "execution_count": 16,
   "id": "e38739f4",
   "metadata": {
    "execution": {
     "iopub.execute_input": "2022-09-18T09:50:04.580251Z",
     "iopub.status.busy": "2022-09-18T09:50:04.579773Z",
     "iopub.status.idle": "2022-09-18T09:50:59.152144Z",
     "shell.execute_reply": "2022-09-18T09:50:59.151014Z"
    },
    "papermill": {
     "duration": 54.593181,
     "end_time": "2022-09-18T09:50:59.161467",
     "exception": false,
     "start_time": "2022-09-18T09:50:04.568286",
     "status": "completed"
    },
    "tags": []
   },
   "outputs": [
    {
     "name": "stdout",
     "output_type": "stream",
     "text": [
      "CPU times: user 46.2 s, sys: 11.8 s, total: 58 s\n",
      "Wall time: 54.3 s\n"
     ]
    },
    {
     "data": {
      "text/plain": [
       "row_id    cell_id       gene_id        \n",
       "0         c2150f55becb  CD86              NaN\n",
       "1         c2150f55becb  CD274             NaN\n",
       "2         c2150f55becb  CD270             NaN\n",
       "3         c2150f55becb  CD155             NaN\n",
       "4         c2150f55becb  CD112             NaN\n",
       "                                           ..\n",
       "65744175  2c53aa67933d  ENSG00000134419   NaN\n",
       "65744176  2c53aa67933d  ENSG00000186862   NaN\n",
       "65744177  2c53aa67933d  ENSG00000170959   NaN\n",
       "65744178  2c53aa67933d  ENSG00000107874   NaN\n",
       "65744179  2c53aa67933d  ENSG00000166012   NaN\n",
       "Name: target, Length: 65744180, dtype: float32"
      ]
     },
     "execution_count": 16,
     "metadata": {},
     "output_type": "execute_result"
    }
   ],
   "source": [
    "%%time\n",
    "eval_ids = pd.read_parquet(\"../input/multimodal-single-cell-as-sparse-matrix/evaluation.parquet\")\n",
    "eval_ids.cell_id = eval_ids.cell_id.astype(pd.CategoricalDtype())\n",
    "eval_ids.gene_id = eval_ids.gene_id.astype(pd.CategoricalDtype())\n",
    "\n",
    "submission = pd.Series(name='target',\n",
    "                       index=pd.MultiIndex.from_frame(eval_ids), \n",
    "                       dtype=np.float32)\n",
    "submission"
   ]
  },
  {
   "cell_type": "code",
   "execution_count": 17,
   "id": "16912582",
   "metadata": {
    "execution": {
     "iopub.execute_input": "2022-09-18T09:50:59.185378Z",
     "iopub.status.busy": "2022-09-18T09:50:59.184948Z",
     "iopub.status.idle": "2022-09-18T09:51:03.982289Z",
     "shell.execute_reply": "2022-09-18T09:51:03.980897Z"
    },
    "papermill": {
     "duration": 4.812709,
     "end_time": "2022-09-18T09:51:03.984891",
     "exception": false,
     "start_time": "2022-09-18T09:50:59.172182",
     "status": "completed"
    },
    "tags": []
   },
   "outputs": [
    {
     "name": "stdout",
     "output_type": "stream",
     "text": [
      "CPU times: user 3.51 s, sys: 1.51 s, total: 5.02 s\n",
      "Wall time: 4.78 s\n"
     ]
    },
    {
     "data": {
      "text/plain": [
       "row_id    cell_id       gene_id        \n",
       "0         c2150f55becb  CD86                    NaN\n",
       "1         c2150f55becb  CD274                   NaN\n",
       "2         c2150f55becb  CD270                   NaN\n",
       "3         c2150f55becb  CD155                   NaN\n",
       "4         c2150f55becb  CD112                   NaN\n",
       "                                             ...   \n",
       "65744175  2c53aa67933d  ENSG00000134419    2.765625\n",
       "65744176  2c53aa67933d  ENSG00000186862   -0.413574\n",
       "65744177  2c53aa67933d  ENSG00000170959   -0.405273\n",
       "65744178  2c53aa67933d  ENSG00000107874    0.226562\n",
       "65744179  2c53aa67933d  ENSG00000166012    2.412109\n",
       "Name: target, Length: 65744180, dtype: float32"
      ]
     },
     "execution_count": 17,
     "metadata": {},
     "output_type": "execute_result"
    }
   ],
   "source": [
    "%%time\n",
    "y_columns = np.load(\"../input/multimodal-single-cell-as-sparse-matrix/train_multi_targets_idxcol.npz\",\n",
    "                   allow_pickle=True)[\"columns\"]\n",
    "\n",
    "test_index = np.load(\"../input/multimodal-single-cell-as-sparse-matrix/test_multi_inputs_idxcol.npz\",\n",
    "                    allow_pickle=True)[\"index\"]\n",
    "\n",
    "cell_dict = dict((k,v) for v,k in enumerate(test_index)) \n",
    "assert len(cell_dict)  == len(test_index)\n",
    "\n",
    "gene_dict = dict((k,v) for v,k in enumerate(y_columns))\n",
    "assert len(gene_dict) == len(y_columns)\n",
    "\n",
    "eval_ids_cell_num = eval_ids.cell_id.apply(lambda x:cell_dict.get(x, -1))\n",
    "eval_ids_gene_num = eval_ids.gene_id.apply(lambda x:gene_dict.get(x, -1))\n",
    "valid_multi_rows = (eval_ids_gene_num !=-1) & (eval_ids_cell_num!=-1)\n",
    "\n",
    "submission.iloc[valid_multi_rows] = preds[eval_ids_cell_num[valid_multi_rows].to_numpy(),\n",
    "eval_ids_gene_num[valid_multi_rows].to_numpy()]\n",
    "\n",
    "del eval_ids_cell_num, eval_ids_gene_num, valid_multi_rows, eval_ids, test_index, y_columns\n",
    "gc.collect()\n",
    "\n",
    "submission"
   ]
  },
  {
   "cell_type": "code",
   "execution_count": 18,
   "id": "79e9b5e1",
   "metadata": {
    "execution": {
     "iopub.execute_input": "2022-09-18T09:51:04.008679Z",
     "iopub.status.busy": "2022-09-18T09:51:04.008252Z",
     "iopub.status.idle": "2022-09-18T09:51:35.724989Z",
     "shell.execute_reply": "2022-09-18T09:51:35.724099Z"
    },
    "papermill": {
     "duration": 31.741412,
     "end_time": "2022-09-18T09:51:35.737074",
     "exception": false,
     "start_time": "2022-09-18T09:51:03.995662",
     "status": "completed"
    },
    "tags": []
   },
   "outputs": [
    {
     "data": {
      "text/plain": [
       "row_id\n",
       "0           0.094605\n",
       "1          -0.162362\n",
       "2          -0.405332\n",
       "3          -0.302582\n",
       "4           1.114355\n",
       "              ...   \n",
       "65744175    2.765625\n",
       "65744176   -0.413574\n",
       "65744177   -0.405273\n",
       "65744178    0.226562\n",
       "65744179    2.412109\n",
       "Name: target, Length: 65744180, dtype: float32"
      ]
     },
     "execution_count": 18,
     "metadata": {},
     "output_type": "execute_result"
    }
   ],
   "source": [
    "submission.reset_index(drop=True, inplace=True)\n",
    "submission.index.name = 'row_id'\n",
    "\n",
    "cite_submission = pd.read_csv(\"../input/targets-multiome-sparse-scaled/submission_cite.csv\")\n",
    "cite_submission = cite_submission.set_index(\"row_id\")\n",
    "cite_submission = cite_submission[\"target\"]\n",
    "submission[submission.isnull()] = cite_submission[submission.isnull()]\n",
    "submission"
   ]
  },
  {
   "cell_type": "code",
   "execution_count": 19,
   "id": "701a9af8",
   "metadata": {
    "execution": {
     "iopub.execute_input": "2022-09-18T09:51:35.760943Z",
     "iopub.status.busy": "2022-09-18T09:51:35.759726Z",
     "iopub.status.idle": "2022-09-18T09:53:48.181631Z",
     "shell.execute_reply": "2022-09-18T09:53:48.180251Z"
    },
    "papermill": {
     "duration": 132.436988,
     "end_time": "2022-09-18T09:53:48.184634",
     "exception": false,
     "start_time": "2022-09-18T09:51:35.747646",
     "status": "completed"
    },
    "tags": []
   },
   "outputs": [],
   "source": [
    "submission.to_csv(\"submission_keras_multiome.csv\")"
   ]
  },
  {
   "cell_type": "code",
   "execution_count": 20,
   "id": "b0fead86",
   "metadata": {
    "execution": {
     "iopub.execute_input": "2022-09-18T09:53:48.208518Z",
     "iopub.status.busy": "2022-09-18T09:53:48.208110Z",
     "iopub.status.idle": "2022-09-18T09:53:48.746078Z",
     "shell.execute_reply": "2022-09-18T09:53:48.745157Z"
    },
    "papermill": {
     "duration": 0.552651,
     "end_time": "2022-09-18T09:53:48.748410",
     "exception": false,
     "start_time": "2022-09-18T09:53:48.195759",
     "status": "completed"
    },
    "tags": []
   },
   "outputs": [
    {
     "data": {
      "text/plain": [
       "0"
      ]
     },
     "execution_count": 20,
     "metadata": {},
     "output_type": "execute_result"
    }
   ],
   "source": [
    "del preds, Y, train, multi_test_x\n",
    "gc.collect()\n",
    "gc.collect()"
   ]
  },
  {
   "cell_type": "markdown",
   "id": "20555230",
   "metadata": {
    "papermill": {
     "duration": 0.010731,
     "end_time": "2022-09-18T09:53:48.770224",
     "exception": false,
     "start_time": "2022-09-18T09:53:48.759493",
     "status": "completed"
    },
    "tags": []
   },
   "source": [
    "## Ensemble submission from with \n",
    "\n",
    "https://www.kaggle.com/code/vslaykovsky/lb-0-811-normalized-ensembles-for-pearson-s-r\n",
    "\n",
    "with files from :\n",
    "\n",
    "the current notebook +\n",
    "\n",
    "https://www.kaggle.com/code/sskknt/msci-citeseq-keras-quickstart-dropout/data\n",
    "\n",
    "https://www.kaggle.com/code/xiafire/lb-t15-msci-multiome-catboostregressor/data\n"
   ]
  },
  {
   "cell_type": "code",
   "execution_count": 21,
   "id": "0e57002c",
   "metadata": {
    "execution": {
     "iopub.execute_input": "2022-09-18T09:53:48.794560Z",
     "iopub.status.busy": "2022-09-18T09:53:48.793539Z",
     "iopub.status.idle": "2022-09-18T09:53:48.802842Z",
     "shell.execute_reply": "2022-09-18T09:53:48.801923Z"
    },
    "papermill": {
     "duration": 0.024236,
     "end_time": "2022-09-18T09:53:48.805335",
     "exception": false,
     "start_time": "2022-09-18T09:53:48.781099",
     "status": "completed"
    },
    "tags": []
   },
   "outputs": [],
   "source": [
    "def std(x):\n",
    "    return (x - np.mean(x)) / np.std(x)\n",
    "\n",
    "def gen_std_submission(path, cell_ids):\n",
    "    \"\"\"\n",
    "    Standardize submission per cell_id\n",
    "    \"\"\"\n",
    "    df = pd.read_csv(path)\n",
    "    df['cell_id'] = cell_ids    \n",
    "    vals = []\n",
    "    for idx, g in tqdm(df.groupby('cell_id', sort=False), desc=f'Standardizing {path}', miniters=1000):\n",
    "        vals.append(std(g.target).values)\n",
    "    vals = np.concatenate(vals)\n",
    "    return vals\n",
    "\n",
    "def gen_ensemble(technology):\n",
    "    ensemble = None\n",
    "    for path in tqdm([path for path in SUBMISSIONS.keys() if technology in path], desc='Process submission'):\n",
    "        weight = SUBMISSIONS[path]\n",
    "        if ensemble is None:\n",
    "            ensemble = gen_std_submission(path, cell_ids) * weight\n",
    "        else:\n",
    "            ensemble += gen_std_submission(path, cell_ids) * weight\n",
    "    return ensemble"
   ]
  },
  {
   "cell_type": "code",
   "execution_count": 22,
   "id": "a3e2c051",
   "metadata": {
    "execution": {
     "iopub.execute_input": "2022-09-18T09:53:48.830061Z",
     "iopub.status.busy": "2022-09-18T09:53:48.829362Z",
     "iopub.status.idle": "2022-09-18T09:53:48.833827Z",
     "shell.execute_reply": "2022-09-18T09:53:48.833009Z"
    },
    "papermill": {
     "duration": 0.019573,
     "end_time": "2022-09-18T09:53:48.836192",
     "exception": false,
     "start_time": "2022-09-18T09:53:48.816619",
     "status": "completed"
    },
    "tags": []
   },
   "outputs": [],
   "source": [
    "SUBMISSIONS = {\n",
    "    'submission_keras_multiome.csv':0.6,\n",
    "    '../input/msci-citeseq-keras-quickstart-dropout/submission.csv': 0.2,         \n",
    "    '../input/lb-t15-msci-multiome-catboostregressor/submission.csv':0.2,\n",
    "}"
   ]
  },
  {
   "cell_type": "code",
   "execution_count": 23,
   "id": "d89f453b",
   "metadata": {
    "execution": {
     "iopub.execute_input": "2022-09-18T09:53:48.859894Z",
     "iopub.status.busy": "2022-09-18T09:53:48.859440Z",
     "iopub.status.idle": "2022-09-18T10:01:18.202211Z",
     "shell.execute_reply": "2022-09-18T10:01:18.200833Z"
    },
    "papermill": {
     "duration": 449.369728,
     "end_time": "2022-09-18T10:01:18.216867",
     "exception": false,
     "start_time": "2022-09-18T09:53:48.847139",
     "status": "completed"
    },
    "tags": []
   },
   "outputs": [
    {
     "data": {
      "application/vnd.jupyter.widget-view+json": {
       "model_id": "99ba6fe80fc84dc599c9278d4db4533a",
       "version_major": 2,
       "version_minor": 0
      },
      "text/plain": [
       "Technology:   0%|          | 0/2 [00:00<?, ?it/s]"
      ]
     },
     "metadata": {},
     "output_type": "display_data"
    },
    {
     "data": {
      "application/vnd.jupyter.widget-view+json": {
       "model_id": "d8f6501c00cd4505a9779ef2d4f9d4e3",
       "version_major": 2,
       "version_minor": 0
      },
      "text/plain": [
       "Process submission:   0%|          | 0/1 [00:00<?, ?it/s]"
      ]
     },
     "metadata": {},
     "output_type": "display_data"
    },
    {
     "data": {
      "application/vnd.jupyter.widget-view+json": {
       "model_id": "bf270b6848b847cb8b15957f9d7d1597",
       "version_major": 2,
       "version_minor": 0
      },
      "text/plain": [
       "Standardizing ../input/msci-citeseq-keras-quickstart-dropout/submission.csv:   0%|          | 0/65443 [00:00<?…"
      ]
     },
     "metadata": {},
     "output_type": "display_data"
    },
    {
     "data": {
      "application/vnd.jupyter.widget-view+json": {
       "model_id": "61733fc0434248e4ac23910587c828e2",
       "version_major": 2,
       "version_minor": 0
      },
      "text/plain": [
       "Process submission:   0%|          | 0/2 [00:00<?, ?it/s]"
      ]
     },
     "metadata": {},
     "output_type": "display_data"
    },
    {
     "data": {
      "application/vnd.jupyter.widget-view+json": {
       "model_id": "ca5a5fbcf2f94ea7a61e142aee743cfe",
       "version_major": 2,
       "version_minor": 0
      },
      "text/plain": [
       "Standardizing submission_keras_multiome.csv:   0%|          | 0/65443 [00:00<?, ?it/s]"
      ]
     },
     "metadata": {},
     "output_type": "display_data"
    },
    {
     "data": {
      "application/vnd.jupyter.widget-view+json": {
       "model_id": "bc955c23bc2348c89c65a4853874b780",
       "version_major": 2,
       "version_minor": 0
      },
      "text/plain": [
       "Standardizing ../input/lb-t15-msci-multiome-catboostregressor/submission.csv:   0%|          | 0/65443 [00:00<…"
      ]
     },
     "metadata": {},
     "output_type": "display_data"
    },
    {
     "data": {
      "text/html": [
       "<div>\n",
       "<style scoped>\n",
       "    .dataframe tbody tr th:only-of-type {\n",
       "        vertical-align: middle;\n",
       "    }\n",
       "\n",
       "    .dataframe tbody tr th {\n",
       "        vertical-align: top;\n",
       "    }\n",
       "\n",
       "    .dataframe thead th {\n",
       "        text-align: right;\n",
       "    }\n",
       "</style>\n",
       "<table border=\"1\" class=\"dataframe\">\n",
       "  <thead>\n",
       "    <tr style=\"text-align: right;\">\n",
       "      <th></th>\n",
       "      <th>row_id</th>\n",
       "      <th>target</th>\n",
       "    </tr>\n",
       "  </thead>\n",
       "  <tbody>\n",
       "    <tr>\n",
       "      <th>0</th>\n",
       "      <td>0</td>\n",
       "      <td>0.018921</td>\n",
       "    </tr>\n",
       "    <tr>\n",
       "      <th>1</th>\n",
       "      <td>1</td>\n",
       "      <td>-0.032472</td>\n",
       "    </tr>\n",
       "    <tr>\n",
       "      <th>2</th>\n",
       "      <td>2</td>\n",
       "      <td>-0.081066</td>\n",
       "    </tr>\n",
       "    <tr>\n",
       "      <th>3</th>\n",
       "      <td>3</td>\n",
       "      <td>-0.060516</td>\n",
       "    </tr>\n",
       "    <tr>\n",
       "      <th>4</th>\n",
       "      <td>4</td>\n",
       "      <td>0.222871</td>\n",
       "    </tr>\n",
       "    <tr>\n",
       "      <th>...</th>\n",
       "      <td>...</td>\n",
       "      <td>...</td>\n",
       "    </tr>\n",
       "    <tr>\n",
       "      <th>65744175</th>\n",
       "      <td>65744175</td>\n",
       "      <td>3.421738</td>\n",
       "    </tr>\n",
       "    <tr>\n",
       "      <th>65744176</th>\n",
       "      <td>65744176</td>\n",
       "      <td>-0.514589</td>\n",
       "    </tr>\n",
       "    <tr>\n",
       "      <th>65744177</th>\n",
       "      <td>65744177</td>\n",
       "      <td>-0.505025</td>\n",
       "    </tr>\n",
       "    <tr>\n",
       "      <th>65744178</th>\n",
       "      <td>65744178</td>\n",
       "      <td>0.263628</td>\n",
       "    </tr>\n",
       "    <tr>\n",
       "      <th>65744179</th>\n",
       "      <td>65744179</td>\n",
       "      <td>2.921087</td>\n",
       "    </tr>\n",
       "  </tbody>\n",
       "</table>\n",
       "<p>65744180 rows × 2 columns</p>\n",
       "</div>"
      ],
      "text/plain": [
       "            row_id    target\n",
       "0                0  0.018921\n",
       "1                1 -0.032472\n",
       "2                2 -0.081066\n",
       "3                3 -0.060516\n",
       "4                4  0.222871\n",
       "...            ...       ...\n",
       "65744175  65744175  3.421738\n",
       "65744176  65744176 -0.514589\n",
       "65744177  65744177 -0.505025\n",
       "65744178  65744178  0.263628\n",
       "65744179  65744179  2.921087\n",
       "\n",
       "[65744180 rows x 2 columns]"
      ]
     },
     "execution_count": 23,
     "metadata": {},
     "output_type": "execute_result"
    }
   ],
   "source": [
    "cell_ids = pd.read_parquet('../input/multimodal-single-cell-as-sparse-matrix/evaluation.parquet').cell_id\n",
    "\n",
    "PRED_SEGMENTS = [(0, 6812820), (6812820, 65744180)]\n",
    "ensemble = []\n",
    "for tech, (from_idx, to_idx) in tqdm(list(zip(['citeseq', 'multiome'], PRED_SEGMENTS)), desc='Technology'):    \n",
    "    ensemble.append(gen_ensemble(tech)[from_idx: to_idx])\n",
    "    \n",
    "    \n",
    "ensemble = np.concatenate(ensemble)\n",
    "\n",
    "df_submit = pd.read_parquet('../input/multimodal-single-cell-as-sparse-matrix/sample_submission.parquet')\n",
    "df_submit['target'] = ensemble\n",
    "df_submit.to_csv('submission_06_02_02_v1.csv', index=False)\n",
    "df_submit"
   ]
  },
  {
   "cell_type": "code",
   "execution_count": null,
   "id": "3d516193",
   "metadata": {
    "papermill": {
     "duration": 0.011695,
     "end_time": "2022-09-18T10:01:18.240764",
     "exception": false,
     "start_time": "2022-09-18T10:01:18.229069",
     "status": "completed"
    },
    "tags": []
   },
   "outputs": [],
   "source": []
  }
 ],
 "metadata": {
  "kernelspec": {
   "display_name": "Python 3 (ipykernel)",
   "language": "python",
   "name": "python3"
  },
  "language_info": {
   "codemirror_mode": {
    "name": "ipython",
    "version": 3
   },
   "file_extension": ".py",
   "mimetype": "text/x-python",
   "name": "python",
   "nbconvert_exporter": "python",
   "pygments_lexer": "ipython3",
   "version": "3.8.10"
  },
  "papermill": {
   "default_parameters": {},
   "duration": 3099.36798,
   "end_time": "2022-09-18T10:01:20.986297",
   "environment_variables": {},
   "exception": null,
   "input_path": "__notebook__.ipynb",
   "output_path": "__notebook__.ipynb",
   "parameters": {},
   "start_time": "2022-09-18T09:09:41.618317",
   "version": "2.3.4"
  },
  "widgets": {
   "application/vnd.jupyter.widget-state+json": {
    "state": {
     "00339d405fe7499ca96baa39bc67b33b": {
      "model_module": "@jupyter-widgets/controls",
      "model_module_version": "1.5.0",
      "model_name": "HTMLModel",
      "state": {
       "_dom_classes": [],
       "_model_module": "@jupyter-widgets/controls",
       "_model_module_version": "1.5.0",
       "_model_name": "HTMLModel",
       "_view_count": null,
       "_view_module": "@jupyter-widgets/controls",
       "_view_module_version": "1.5.0",
       "_view_name": "HTMLView",
       "description": "",
       "description_tooltip": null,
       "layout": "IPY_MODEL_5a8ee36e040b418faa287464d1f8043d",
       "placeholder": "​",
       "style": "IPY_MODEL_f16ffbc60367492d819f4d5aec49a39d",
       "value": "Standardizing ../input/lb-t15-msci-multiome-catboostregressor/submission.csv: 100%"
      }
     },
     "07206bcb873340a38ff7295096d08cf8": {
      "model_module": "@jupyter-widgets/base",
      "model_module_version": "1.2.0",
      "model_name": "LayoutModel",
      "state": {
       "_model_module": "@jupyter-widgets/base",
       "_model_module_version": "1.2.0",
       "_model_name": "LayoutModel",
       "_view_count": null,
       "_view_module": "@jupyter-widgets/base",
       "_view_module_version": "1.2.0",
       "_view_name": "LayoutView",
       "align_content": null,
       "align_items": null,
       "align_self": null,
       "border": null,
       "bottom": null,
       "display": null,
       "flex": null,
       "flex_flow": null,
       "grid_area": null,
       "grid_auto_columns": null,
       "grid_auto_flow": null,
       "grid_auto_rows": null,
       "grid_column": null,
       "grid_gap": null,
       "grid_row": null,
       "grid_template_areas": null,
       "grid_template_columns": null,
       "grid_template_rows": null,
       "height": null,
       "justify_content": null,
       "justify_items": null,
       "left": null,
       "margin": null,
       "max_height": null,
       "max_width": null,
       "min_height": null,
       "min_width": null,
       "object_fit": null,
       "object_position": null,
       "order": null,
       "overflow": null,
       "overflow_x": null,
       "overflow_y": null,
       "padding": null,
       "right": null,
       "top": null,
       "visibility": null,
       "width": null
      }
     },
     "08f517c1acb4496585fda81254f08742": {
      "model_module": "@jupyter-widgets/controls",
      "model_module_version": "1.5.0",
      "model_name": "DescriptionStyleModel",
      "state": {
       "_model_module": "@jupyter-widgets/controls",
       "_model_module_version": "1.5.0",
       "_model_name": "DescriptionStyleModel",
       "_view_count": null,
       "_view_module": "@jupyter-widgets/base",
       "_view_module_version": "1.2.0",
       "_view_name": "StyleView",
       "description_width": ""
      }
     },
     "10c38660c6274a1ea8f612193ae209f8": {
      "model_module": "@jupyter-widgets/controls",
      "model_module_version": "1.5.0",
      "model_name": "DescriptionStyleModel",
      "state": {
       "_model_module": "@jupyter-widgets/controls",
       "_model_module_version": "1.5.0",
       "_model_name": "DescriptionStyleModel",
       "_view_count": null,
       "_view_module": "@jupyter-widgets/base",
       "_view_module_version": "1.2.0",
       "_view_name": "StyleView",
       "description_width": ""
      }
     },
     "12e7b2722d2a429eab42c766e32cc507": {
      "model_module": "@jupyter-widgets/controls",
      "model_module_version": "1.5.0",
      "model_name": "FloatProgressModel",
      "state": {
       "_dom_classes": [],
       "_model_module": "@jupyter-widgets/controls",
       "_model_module_version": "1.5.0",
       "_model_name": "FloatProgressModel",
       "_view_count": null,
       "_view_module": "@jupyter-widgets/controls",
       "_view_module_version": "1.5.0",
       "_view_name": "ProgressView",
       "bar_style": "success",
       "description": "",
       "description_tooltip": null,
       "layout": "IPY_MODEL_f4fffaf89e7a4198b05d81b60b8c4644",
       "max": 65443,
       "min": 0,
       "orientation": "horizontal",
       "style": "IPY_MODEL_71925a163d3d405097301ebee98eebad",
       "value": 65443
      }
     },
     "1393bd1ff821405996af6560ea845442": {
      "model_module": "@jupyter-widgets/controls",
      "model_module_version": "1.5.0",
      "model_name": "DescriptionStyleModel",
      "state": {
       "_model_module": "@jupyter-widgets/controls",
       "_model_module_version": "1.5.0",
       "_model_name": "DescriptionStyleModel",
       "_view_count": null,
       "_view_module": "@jupyter-widgets/base",
       "_view_module_version": "1.2.0",
       "_view_name": "StyleView",
       "description_width": ""
      }
     },
     "22e0364ccc6d493fbed285ebe7a9d1e5": {
      "model_module": "@jupyter-widgets/base",
      "model_module_version": "1.2.0",
      "model_name": "LayoutModel",
      "state": {
       "_model_module": "@jupyter-widgets/base",
       "_model_module_version": "1.2.0",
       "_model_name": "LayoutModel",
       "_view_count": null,
       "_view_module": "@jupyter-widgets/base",
       "_view_module_version": "1.2.0",
       "_view_name": "LayoutView",
       "align_content": null,
       "align_items": null,
       "align_self": null,
       "border": null,
       "bottom": null,
       "display": null,
       "flex": null,
       "flex_flow": null,
       "grid_area": null,
       "grid_auto_columns": null,
       "grid_auto_flow": null,
       "grid_auto_rows": null,
       "grid_column": null,
       "grid_gap": null,
       "grid_row": null,
       "grid_template_areas": null,
       "grid_template_columns": null,
       "grid_template_rows": null,
       "height": null,
       "justify_content": null,
       "justify_items": null,
       "left": null,
       "margin": null,
       "max_height": null,
       "max_width": null,
       "min_height": null,
       "min_width": null,
       "object_fit": null,
       "object_position": null,
       "order": null,
       "overflow": null,
       "overflow_x": null,
       "overflow_y": null,
       "padding": null,
       "right": null,
       "top": null,
       "visibility": null,
       "width": null
      }
     },
     "23f1d583b74d4079af804eec8904001f": {
      "model_module": "@jupyter-widgets/base",
      "model_module_version": "1.2.0",
      "model_name": "LayoutModel",
      "state": {
       "_model_module": "@jupyter-widgets/base",
       "_model_module_version": "1.2.0",
       "_model_name": "LayoutModel",
       "_view_count": null,
       "_view_module": "@jupyter-widgets/base",
       "_view_module_version": "1.2.0",
       "_view_name": "LayoutView",
       "align_content": null,
       "align_items": null,
       "align_self": null,
       "border": null,
       "bottom": null,
       "display": null,
       "flex": null,
       "flex_flow": null,
       "grid_area": null,
       "grid_auto_columns": null,
       "grid_auto_flow": null,
       "grid_auto_rows": null,
       "grid_column": null,
       "grid_gap": null,
       "grid_row": null,
       "grid_template_areas": null,
       "grid_template_columns": null,
       "grid_template_rows": null,
       "height": null,
       "justify_content": null,
       "justify_items": null,
       "left": null,
       "margin": null,
       "max_height": null,
       "max_width": null,
       "min_height": null,
       "min_width": null,
       "object_fit": null,
       "object_position": null,
       "order": null,
       "overflow": null,
       "overflow_x": null,
       "overflow_y": null,
       "padding": null,
       "right": null,
       "top": null,
       "visibility": null,
       "width": null
      }
     },
     "2fcb7aeb69f94d1ea558df5a1a42d8b5": {
      "model_module": "@jupyter-widgets/controls",
      "model_module_version": "1.5.0",
      "model_name": "HTMLModel",
      "state": {
       "_dom_classes": [],
       "_model_module": "@jupyter-widgets/controls",
       "_model_module_version": "1.5.0",
       "_model_name": "HTMLModel",
       "_view_count": null,
       "_view_module": "@jupyter-widgets/controls",
       "_view_module_version": "1.5.0",
       "_view_name": "HTMLView",
       "description": "",
       "description_tooltip": null,
       "layout": "IPY_MODEL_32e19a124311402484532f6465f97bb4",
       "placeholder": "​",
       "style": "IPY_MODEL_31a36886939e4411a24294b8887c27b4",
       "value": " 1/1 [01:37&lt;00:00, 97.91s/it]"
      }
     },
     "30acab7ec5344700bf8107ff54ea8f3e": {
      "model_module": "@jupyter-widgets/controls",
      "model_module_version": "1.5.0",
      "model_name": "HTMLModel",
      "state": {
       "_dom_classes": [],
       "_model_module": "@jupyter-widgets/controls",
       "_model_module_version": "1.5.0",
       "_model_name": "HTMLModel",
       "_view_count": null,
       "_view_module": "@jupyter-widgets/controls",
       "_view_module_version": "1.5.0",
       "_view_name": "HTMLView",
       "description": "",
       "description_tooltip": null,
       "layout": "IPY_MODEL_dc737595b2134428856a181a17fb469b",
       "placeholder": "​",
       "style": "IPY_MODEL_4fa253808e99416d9e66024d648264d7",
       "value": "Technology: 100%"
      }
     },
     "31a36886939e4411a24294b8887c27b4": {
      "model_module": "@jupyter-widgets/controls",
      "model_module_version": "1.5.0",
      "model_name": "DescriptionStyleModel",
      "state": {
       "_model_module": "@jupyter-widgets/controls",
       "_model_module_version": "1.5.0",
       "_model_name": "DescriptionStyleModel",
       "_view_count": null,
       "_view_module": "@jupyter-widgets/base",
       "_view_module_version": "1.2.0",
       "_view_name": "StyleView",
       "description_width": ""
      }
     },
     "32e19a124311402484532f6465f97bb4": {
      "model_module": "@jupyter-widgets/base",
      "model_module_version": "1.2.0",
      "model_name": "LayoutModel",
      "state": {
       "_model_module": "@jupyter-widgets/base",
       "_model_module_version": "1.2.0",
       "_model_name": "LayoutModel",
       "_view_count": null,
       "_view_module": "@jupyter-widgets/base",
       "_view_module_version": "1.2.0",
       "_view_name": "LayoutView",
       "align_content": null,
       "align_items": null,
       "align_self": null,
       "border": null,
       "bottom": null,
       "display": null,
       "flex": null,
       "flex_flow": null,
       "grid_area": null,
       "grid_auto_columns": null,
       "grid_auto_flow": null,
       "grid_auto_rows": null,
       "grid_column": null,
       "grid_gap": null,
       "grid_row": null,
       "grid_template_areas": null,
       "grid_template_columns": null,
       "grid_template_rows": null,
       "height": null,
       "justify_content": null,
       "justify_items": null,
       "left": null,
       "margin": null,
       "max_height": null,
       "max_width": null,
       "min_height": null,
       "min_width": null,
       "object_fit": null,
       "object_position": null,
       "order": null,
       "overflow": null,
       "overflow_x": null,
       "overflow_y": null,
       "padding": null,
       "right": null,
       "top": null,
       "visibility": null,
       "width": null
      }
     },
     "34dff534cdb941b7b08bb442408497be": {
      "model_module": "@jupyter-widgets/controls",
      "model_module_version": "1.5.0",
      "model_name": "ProgressStyleModel",
      "state": {
       "_model_module": "@jupyter-widgets/controls",
       "_model_module_version": "1.5.0",
       "_model_name": "ProgressStyleModel",
       "_view_count": null,
       "_view_module": "@jupyter-widgets/base",
       "_view_module_version": "1.2.0",
       "_view_name": "StyleView",
       "bar_color": null,
       "description_width": ""
      }
     },
     "3cba5c77d4dc4d538f4c6a2ae1477c3e": {
      "model_module": "@jupyter-widgets/base",
      "model_module_version": "1.2.0",
      "model_name": "LayoutModel",
      "state": {
       "_model_module": "@jupyter-widgets/base",
       "_model_module_version": "1.2.0",
       "_model_name": "LayoutModel",
       "_view_count": null,
       "_view_module": "@jupyter-widgets/base",
       "_view_module_version": "1.2.0",
       "_view_name": "LayoutView",
       "align_content": null,
       "align_items": null,
       "align_self": null,
       "border": null,
       "bottom": null,
       "display": null,
       "flex": null,
       "flex_flow": null,
       "grid_area": null,
       "grid_auto_columns": null,
       "grid_auto_flow": null,
       "grid_auto_rows": null,
       "grid_column": null,
       "grid_gap": null,
       "grid_row": null,
       "grid_template_areas": null,
       "grid_template_columns": null,
       "grid_template_rows": null,
       "height": null,
       "justify_content": null,
       "justify_items": null,
       "left": null,
       "margin": null,
       "max_height": null,
       "max_width": null,
       "min_height": null,
       "min_width": null,
       "object_fit": null,
       "object_position": null,
       "order": null,
       "overflow": null,
       "overflow_x": null,
       "overflow_y": null,
       "padding": null,
       "right": null,
       "top": null,
       "visibility": null,
       "width": null
      }
     },
     "3e9d749ba26448eb841829e7c910e840": {
      "model_module": "@jupyter-widgets/controls",
      "model_module_version": "1.5.0",
      "model_name": "ProgressStyleModel",
      "state": {
       "_model_module": "@jupyter-widgets/controls",
       "_model_module_version": "1.5.0",
       "_model_name": "ProgressStyleModel",
       "_view_count": null,
       "_view_module": "@jupyter-widgets/base",
       "_view_module_version": "1.2.0",
       "_view_name": "StyleView",
       "bar_color": null,
       "description_width": ""
      }
     },
     "3fae4e82be814759bc8d79ff0cd7437f": {
      "model_module": "@jupyter-widgets/controls",
      "model_module_version": "1.5.0",
      "model_name": "DescriptionStyleModel",
      "state": {
       "_model_module": "@jupyter-widgets/controls",
       "_model_module_version": "1.5.0",
       "_model_name": "DescriptionStyleModel",
       "_view_count": null,
       "_view_module": "@jupyter-widgets/base",
       "_view_module_version": "1.2.0",
       "_view_name": "StyleView",
       "description_width": ""
      }
     },
     "4fa253808e99416d9e66024d648264d7": {
      "model_module": "@jupyter-widgets/controls",
      "model_module_version": "1.5.0",
      "model_name": "DescriptionStyleModel",
      "state": {
       "_model_module": "@jupyter-widgets/controls",
       "_model_module_version": "1.5.0",
       "_model_name": "DescriptionStyleModel",
       "_view_count": null,
       "_view_module": "@jupyter-widgets/base",
       "_view_module_version": "1.2.0",
       "_view_name": "StyleView",
       "description_width": ""
      }
     },
     "57f0325a4e834b62865b981ff6b6f454": {
      "model_module": "@jupyter-widgets/controls",
      "model_module_version": "1.5.0",
      "model_name": "FloatProgressModel",
      "state": {
       "_dom_classes": [],
       "_model_module": "@jupyter-widgets/controls",
       "_model_module_version": "1.5.0",
       "_model_name": "FloatProgressModel",
       "_view_count": null,
       "_view_module": "@jupyter-widgets/controls",
       "_view_module_version": "1.5.0",
       "_view_name": "ProgressView",
       "bar_style": "success",
       "description": "",
       "description_tooltip": null,
       "layout": "IPY_MODEL_d762e8514c2b470ca755e9421d2d9e67",
       "max": 65443,
       "min": 0,
       "orientation": "horizontal",
       "style": "IPY_MODEL_3e9d749ba26448eb841829e7c910e840",
       "value": 65443
      }
     },
     "5a8ee36e040b418faa287464d1f8043d": {
      "model_module": "@jupyter-widgets/base",
      "model_module_version": "1.2.0",
      "model_name": "LayoutModel",
      "state": {
       "_model_module": "@jupyter-widgets/base",
       "_model_module_version": "1.2.0",
       "_model_name": "LayoutModel",
       "_view_count": null,
       "_view_module": "@jupyter-widgets/base",
       "_view_module_version": "1.2.0",
       "_view_name": "LayoutView",
       "align_content": null,
       "align_items": null,
       "align_self": null,
       "border": null,
       "bottom": null,
       "display": null,
       "flex": null,
       "flex_flow": null,
       "grid_area": null,
       "grid_auto_columns": null,
       "grid_auto_flow": null,
       "grid_auto_rows": null,
       "grid_column": null,
       "grid_gap": null,
       "grid_row": null,
       "grid_template_areas": null,
       "grid_template_columns": null,
       "grid_template_rows": null,
       "height": null,
       "justify_content": null,
       "justify_items": null,
       "left": null,
       "margin": null,
       "max_height": null,
       "max_width": null,
       "min_height": null,
       "min_width": null,
       "object_fit": null,
       "object_position": null,
       "order": null,
       "overflow": null,
       "overflow_x": null,
       "overflow_y": null,
       "padding": null,
       "right": null,
       "top": null,
       "visibility": null,
       "width": null
      }
     },
     "61733fc0434248e4ac23910587c828e2": {
      "model_module": "@jupyter-widgets/controls",
      "model_module_version": "1.5.0",
      "model_name": "HBoxModel",
      "state": {
       "_dom_classes": [],
       "_model_module": "@jupyter-widgets/controls",
       "_model_module_version": "1.5.0",
       "_model_name": "HBoxModel",
       "_view_count": null,
       "_view_module": "@jupyter-widgets/controls",
       "_view_module_version": "1.5.0",
       "_view_name": "HBoxView",
       "box_style": "",
       "children": [
        "IPY_MODEL_692723995e244038a8a2d5c344b308e3",
        "IPY_MODEL_642000c3cc5e4ecc9b777ab85c3de3c2",
        "IPY_MODEL_b28fa446866147fea8341bb95f96917c"
       ],
       "layout": "IPY_MODEL_db9c932d50ec4a1384fef9a056f88716"
      }
     },
     "628ee23198fe4db08d18210623fe9aed": {
      "model_module": "@jupyter-widgets/base",
      "model_module_version": "1.2.0",
      "model_name": "LayoutModel",
      "state": {
       "_model_module": "@jupyter-widgets/base",
       "_model_module_version": "1.2.0",
       "_model_name": "LayoutModel",
       "_view_count": null,
       "_view_module": "@jupyter-widgets/base",
       "_view_module_version": "1.2.0",
       "_view_name": "LayoutView",
       "align_content": null,
       "align_items": null,
       "align_self": null,
       "border": null,
       "bottom": null,
       "display": null,
       "flex": null,
       "flex_flow": null,
       "grid_area": null,
       "grid_auto_columns": null,
       "grid_auto_flow": null,
       "grid_auto_rows": null,
       "grid_column": null,
       "grid_gap": null,
       "grid_row": null,
       "grid_template_areas": null,
       "grid_template_columns": null,
       "grid_template_rows": null,
       "height": null,
       "justify_content": null,
       "justify_items": null,
       "left": null,
       "margin": null,
       "max_height": null,
       "max_width": null,
       "min_height": null,
       "min_width": null,
       "object_fit": null,
       "object_position": null,
       "order": null,
       "overflow": null,
       "overflow_x": null,
       "overflow_y": null,
       "padding": null,
       "right": null,
       "top": null,
       "visibility": null,
       "width": null
      }
     },
     "642000c3cc5e4ecc9b777ab85c3de3c2": {
      "model_module": "@jupyter-widgets/controls",
      "model_module_version": "1.5.0",
      "model_name": "FloatProgressModel",
      "state": {
       "_dom_classes": [],
       "_model_module": "@jupyter-widgets/controls",
       "_model_module_version": "1.5.0",
       "_model_name": "FloatProgressModel",
       "_view_count": null,
       "_view_module": "@jupyter-widgets/controls",
       "_view_module_version": "1.5.0",
       "_view_name": "ProgressView",
       "bar_style": "success",
       "description": "",
       "description_tooltip": null,
       "layout": "IPY_MODEL_cbd06ca5c3ec4086a14941747306f220",
       "max": 2,
       "min": 0,
       "orientation": "horizontal",
       "style": "IPY_MODEL_34dff534cdb941b7b08bb442408497be",
       "value": 2
      }
     },
     "692723995e244038a8a2d5c344b308e3": {
      "model_module": "@jupyter-widgets/controls",
      "model_module_version": "1.5.0",
      "model_name": "HTMLModel",
      "state": {
       "_dom_classes": [],
       "_model_module": "@jupyter-widgets/controls",
       "_model_module_version": "1.5.0",
       "_model_name": "HTMLModel",
       "_view_count": null,
       "_view_module": "@jupyter-widgets/controls",
       "_view_module_version": "1.5.0",
       "_view_name": "HTMLView",
       "description": "",
       "description_tooltip": null,
       "layout": "IPY_MODEL_82ccc669324744349ebc2cec6ff5f8db",
       "placeholder": "​",
       "style": "IPY_MODEL_1393bd1ff821405996af6560ea845442",
       "value": "Process submission: 100%"
      }
     },
     "6998a2253c244c7b834f1e4889a224e7": {
      "model_module": "@jupyter-widgets/controls",
      "model_module_version": "1.5.0",
      "model_name": "DescriptionStyleModel",
      "state": {
       "_model_module": "@jupyter-widgets/controls",
       "_model_module_version": "1.5.0",
       "_model_name": "DescriptionStyleModel",
       "_view_count": null,
       "_view_module": "@jupyter-widgets/base",
       "_view_module_version": "1.2.0",
       "_view_name": "StyleView",
       "description_width": ""
      }
     },
     "71925a163d3d405097301ebee98eebad": {
      "model_module": "@jupyter-widgets/controls",
      "model_module_version": "1.5.0",
      "model_name": "ProgressStyleModel",
      "state": {
       "_model_module": "@jupyter-widgets/controls",
       "_model_module_version": "1.5.0",
       "_model_name": "ProgressStyleModel",
       "_view_count": null,
       "_view_module": "@jupyter-widgets/base",
       "_view_module_version": "1.2.0",
       "_view_name": "StyleView",
       "bar_color": null,
       "description_width": ""
      }
     },
     "7314394e1cc44b748ad91672ad2ef894": {
      "model_module": "@jupyter-widgets/controls",
      "model_module_version": "1.5.0",
      "model_name": "ProgressStyleModel",
      "state": {
       "_model_module": "@jupyter-widgets/controls",
       "_model_module_version": "1.5.0",
       "_model_name": "ProgressStyleModel",
       "_view_count": null,
       "_view_module": "@jupyter-widgets/base",
       "_view_module_version": "1.2.0",
       "_view_name": "StyleView",
       "bar_color": null,
       "description_width": ""
      }
     },
     "7d287259b80840a78128e95b148b4339": {
      "model_module": "@jupyter-widgets/base",
      "model_module_version": "1.2.0",
      "model_name": "LayoutModel",
      "state": {
       "_model_module": "@jupyter-widgets/base",
       "_model_module_version": "1.2.0",
       "_model_name": "LayoutModel",
       "_view_count": null,
       "_view_module": "@jupyter-widgets/base",
       "_view_module_version": "1.2.0",
       "_view_name": "LayoutView",
       "align_content": null,
       "align_items": null,
       "align_self": null,
       "border": null,
       "bottom": null,
       "display": null,
       "flex": null,
       "flex_flow": null,
       "grid_area": null,
       "grid_auto_columns": null,
       "grid_auto_flow": null,
       "grid_auto_rows": null,
       "grid_column": null,
       "grid_gap": null,
       "grid_row": null,
       "grid_template_areas": null,
       "grid_template_columns": null,
       "grid_template_rows": null,
       "height": null,
       "justify_content": null,
       "justify_items": null,
       "left": null,
       "margin": null,
       "max_height": null,
       "max_width": null,
       "min_height": null,
       "min_width": null,
       "object_fit": null,
       "object_position": null,
       "order": null,
       "overflow": null,
       "overflow_x": null,
       "overflow_y": null,
       "padding": null,
       "right": null,
       "top": null,
       "visibility": null,
       "width": null
      }
     },
     "82ccc669324744349ebc2cec6ff5f8db": {
      "model_module": "@jupyter-widgets/base",
      "model_module_version": "1.2.0",
      "model_name": "LayoutModel",
      "state": {
       "_model_module": "@jupyter-widgets/base",
       "_model_module_version": "1.2.0",
       "_model_name": "LayoutModel",
       "_view_count": null,
       "_view_module": "@jupyter-widgets/base",
       "_view_module_version": "1.2.0",
       "_view_name": "LayoutView",
       "align_content": null,
       "align_items": null,
       "align_self": null,
       "border": null,
       "bottom": null,
       "display": null,
       "flex": null,
       "flex_flow": null,
       "grid_area": null,
       "grid_auto_columns": null,
       "grid_auto_flow": null,
       "grid_auto_rows": null,
       "grid_column": null,
       "grid_gap": null,
       "grid_row": null,
       "grid_template_areas": null,
       "grid_template_columns": null,
       "grid_template_rows": null,
       "height": null,
       "justify_content": null,
       "justify_items": null,
       "left": null,
       "margin": null,
       "max_height": null,
       "max_width": null,
       "min_height": null,
       "min_width": null,
       "object_fit": null,
       "object_position": null,
       "order": null,
       "overflow": null,
       "overflow_x": null,
       "overflow_y": null,
       "padding": null,
       "right": null,
       "top": null,
       "visibility": null,
       "width": null
      }
     },
     "87702b4960b045aab1ff5e623edf5000": {
      "model_module": "@jupyter-widgets/controls",
      "model_module_version": "1.5.0",
      "model_name": "HTMLModel",
      "state": {
       "_dom_classes": [],
       "_model_module": "@jupyter-widgets/controls",
       "_model_module_version": "1.5.0",
       "_model_name": "HTMLModel",
       "_view_count": null,
       "_view_module": "@jupyter-widgets/controls",
       "_view_module_version": "1.5.0",
       "_view_name": "HTMLView",
       "description": "",
       "description_tooltip": null,
       "layout": "IPY_MODEL_7d287259b80840a78128e95b148b4339",
       "placeholder": "​",
       "style": "IPY_MODEL_10c38660c6274a1ea8f612193ae209f8",
       "value": " 2/2 [04:37&lt;00:00, 145.84s/it]"
      }
     },
     "8b562e744d764f62a44579d759f7cdea": {
      "model_module": "@jupyter-widgets/controls",
      "model_module_version": "1.5.0",
      "model_name": "HTMLModel",
      "state": {
       "_dom_classes": [],
       "_model_module": "@jupyter-widgets/controls",
       "_model_module_version": "1.5.0",
       "_model_name": "HTMLModel",
       "_view_count": null,
       "_view_module": "@jupyter-widgets/controls",
       "_view_module_version": "1.5.0",
       "_view_name": "HTMLView",
       "description": "",
       "description_tooltip": null,
       "layout": "IPY_MODEL_3cba5c77d4dc4d538f4c6a2ae1477c3e",
       "placeholder": "​",
       "style": "IPY_MODEL_a5b24a8940154fd187f18643a6517258",
       "value": " 65443/65443 [00:51&lt;00:00, 1326.72it/s]"
      }
     },
     "8e2684d31c74434e897af590eea2548f": {
      "model_module": "@jupyter-widgets/base",
      "model_module_version": "1.2.0",
      "model_name": "LayoutModel",
      "state": {
       "_model_module": "@jupyter-widgets/base",
       "_model_module_version": "1.2.0",
       "_model_name": "LayoutModel",
       "_view_count": null,
       "_view_module": "@jupyter-widgets/base",
       "_view_module_version": "1.2.0",
       "_view_name": "LayoutView",
       "align_content": null,
       "align_items": null,
       "align_self": null,
       "border": null,
       "bottom": null,
       "display": null,
       "flex": null,
       "flex_flow": null,
       "grid_area": null,
       "grid_auto_columns": null,
       "grid_auto_flow": null,
       "grid_auto_rows": null,
       "grid_column": null,
       "grid_gap": null,
       "grid_row": null,
       "grid_template_areas": null,
       "grid_template_columns": null,
       "grid_template_rows": null,
       "height": null,
       "justify_content": null,
       "justify_items": null,
       "left": null,
       "margin": null,
       "max_height": null,
       "max_width": null,
       "min_height": null,
       "min_width": null,
       "object_fit": null,
       "object_position": null,
       "order": null,
       "overflow": null,
       "overflow_x": null,
       "overflow_y": null,
       "padding": null,
       "right": null,
       "top": null,
       "visibility": null,
       "width": null
      }
     },
     "8f2abca903194b4cbe95241ab44b4bda": {
      "model_module": "@jupyter-widgets/base",
      "model_module_version": "1.2.0",
      "model_name": "LayoutModel",
      "state": {
       "_model_module": "@jupyter-widgets/base",
       "_model_module_version": "1.2.0",
       "_model_name": "LayoutModel",
       "_view_count": null,
       "_view_module": "@jupyter-widgets/base",
       "_view_module_version": "1.2.0",
       "_view_name": "LayoutView",
       "align_content": null,
       "align_items": null,
       "align_self": null,
       "border": null,
       "bottom": null,
       "display": null,
       "flex": null,
       "flex_flow": null,
       "grid_area": null,
       "grid_auto_columns": null,
       "grid_auto_flow": null,
       "grid_auto_rows": null,
       "grid_column": null,
       "grid_gap": null,
       "grid_row": null,
       "grid_template_areas": null,
       "grid_template_columns": null,
       "grid_template_rows": null,
       "height": null,
       "justify_content": null,
       "justify_items": null,
       "left": null,
       "margin": null,
       "max_height": null,
       "max_width": null,
       "min_height": null,
       "min_width": null,
       "object_fit": null,
       "object_position": null,
       "order": null,
       "overflow": null,
       "overflow_x": null,
       "overflow_y": null,
       "padding": null,
       "right": null,
       "top": null,
       "visibility": null,
       "width": null
      }
     },
     "90be62ea296d49b59208982b5faee5ca": {
      "model_module": "@jupyter-widgets/controls",
      "model_module_version": "1.5.0",
      "model_name": "HTMLModel",
      "state": {
       "_dom_classes": [],
       "_model_module": "@jupyter-widgets/controls",
       "_model_module_version": "1.5.0",
       "_model_name": "HTMLModel",
       "_view_count": null,
       "_view_module": "@jupyter-widgets/controls",
       "_view_module_version": "1.5.0",
       "_view_name": "HTMLView",
       "description": "",
       "description_tooltip": null,
       "layout": "IPY_MODEL_d2854afe9fbd439ea08d989fbbd4c597",
       "placeholder": "​",
       "style": "IPY_MODEL_fb5a0c9b27e242ddb43131dd197803ca",
       "value": "Process submission: 100%"
      }
     },
     "913fdfd6e59f42b7b755f242ad4305b9": {
      "model_module": "@jupyter-widgets/base",
      "model_module_version": "1.2.0",
      "model_name": "LayoutModel",
      "state": {
       "_model_module": "@jupyter-widgets/base",
       "_model_module_version": "1.2.0",
       "_model_name": "LayoutModel",
       "_view_count": null,
       "_view_module": "@jupyter-widgets/base",
       "_view_module_version": "1.2.0",
       "_view_name": "LayoutView",
       "align_content": null,
       "align_items": null,
       "align_self": null,
       "border": null,
       "bottom": null,
       "display": null,
       "flex": null,
       "flex_flow": null,
       "grid_area": null,
       "grid_auto_columns": null,
       "grid_auto_flow": null,
       "grid_auto_rows": null,
       "grid_column": null,
       "grid_gap": null,
       "grid_row": null,
       "grid_template_areas": null,
       "grid_template_columns": null,
       "grid_template_rows": null,
       "height": null,
       "justify_content": null,
       "justify_items": null,
       "left": null,
       "margin": null,
       "max_height": null,
       "max_width": null,
       "min_height": null,
       "min_width": null,
       "object_fit": null,
       "object_position": null,
       "order": null,
       "overflow": null,
       "overflow_x": null,
       "overflow_y": null,
       "padding": null,
       "right": null,
       "top": null,
       "visibility": null,
       "width": null
      }
     },
     "99ba6fe80fc84dc599c9278d4db4533a": {
      "model_module": "@jupyter-widgets/controls",
      "model_module_version": "1.5.0",
      "model_name": "HBoxModel",
      "state": {
       "_dom_classes": [],
       "_model_module": "@jupyter-widgets/controls",
       "_model_module_version": "1.5.0",
       "_model_name": "HBoxModel",
       "_view_count": null,
       "_view_module": "@jupyter-widgets/controls",
       "_view_module_version": "1.5.0",
       "_view_name": "HBoxView",
       "box_style": "",
       "children": [
        "IPY_MODEL_30acab7ec5344700bf8107ff54ea8f3e",
        "IPY_MODEL_f39f578ac1574314a5cf05617bf4c58b",
        "IPY_MODEL_87702b4960b045aab1ff5e623edf5000"
       ],
       "layout": "IPY_MODEL_b3005d3205fd4982a68b1e4d931a9cd5"
      }
     },
     "a329f682f8e545fbb7db5ec586d8c6b3": {
      "model_module": "@jupyter-widgets/base",
      "model_module_version": "1.2.0",
      "model_name": "LayoutModel",
      "state": {
       "_model_module": "@jupyter-widgets/base",
       "_model_module_version": "1.2.0",
       "_model_name": "LayoutModel",
       "_view_count": null,
       "_view_module": "@jupyter-widgets/base",
       "_view_module_version": "1.2.0",
       "_view_name": "LayoutView",
       "align_content": null,
       "align_items": null,
       "align_self": null,
       "border": null,
       "bottom": null,
       "display": null,
       "flex": null,
       "flex_flow": null,
       "grid_area": null,
       "grid_auto_columns": null,
       "grid_auto_flow": null,
       "grid_auto_rows": null,
       "grid_column": null,
       "grid_gap": null,
       "grid_row": null,
       "grid_template_areas": null,
       "grid_template_columns": null,
       "grid_template_rows": null,
       "height": null,
       "justify_content": null,
       "justify_items": null,
       "left": null,
       "margin": null,
       "max_height": null,
       "max_width": null,
       "min_height": null,
       "min_width": null,
       "object_fit": null,
       "object_position": null,
       "order": null,
       "overflow": null,
       "overflow_x": null,
       "overflow_y": null,
       "padding": null,
       "right": null,
       "top": null,
       "visibility": null,
       "width": null
      }
     },
     "a5b24a8940154fd187f18643a6517258": {
      "model_module": "@jupyter-widgets/controls",
      "model_module_version": "1.5.0",
      "model_name": "DescriptionStyleModel",
      "state": {
       "_model_module": "@jupyter-widgets/controls",
       "_model_module_version": "1.5.0",
       "_model_name": "DescriptionStyleModel",
       "_view_count": null,
       "_view_module": "@jupyter-widgets/base",
       "_view_module_version": "1.2.0",
       "_view_name": "StyleView",
       "description_width": ""
      }
     },
     "a8c839026951484d9feda95de313c470": {
      "model_module": "@jupyter-widgets/controls",
      "model_module_version": "1.5.0",
      "model_name": "ProgressStyleModel",
      "state": {
       "_model_module": "@jupyter-widgets/controls",
       "_model_module_version": "1.5.0",
       "_model_name": "ProgressStyleModel",
       "_view_count": null,
       "_view_module": "@jupyter-widgets/base",
       "_view_module_version": "1.2.0",
       "_view_name": "StyleView",
       "bar_color": null,
       "description_width": ""
      }
     },
     "b0855d5ed5fe4b89ab2691fec4135417": {
      "model_module": "@jupyter-widgets/controls",
      "model_module_version": "1.5.0",
      "model_name": "HTMLModel",
      "state": {
       "_dom_classes": [],
       "_model_module": "@jupyter-widgets/controls",
       "_model_module_version": "1.5.0",
       "_model_name": "HTMLModel",
       "_view_count": null,
       "_view_module": "@jupyter-widgets/controls",
       "_view_module_version": "1.5.0",
       "_view_name": "HTMLView",
       "description": "",
       "description_tooltip": null,
       "layout": "IPY_MODEL_a329f682f8e545fbb7db5ec586d8c6b3",
       "placeholder": "​",
       "style": "IPY_MODEL_bc57ae1f1ffe40a3bfab723e83dc5ad1",
       "value": " 65443/65443 [00:52&lt;00:00, 1331.31it/s]"
      }
     },
     "b28fa446866147fea8341bb95f96917c": {
      "model_module": "@jupyter-widgets/controls",
      "model_module_version": "1.5.0",
      "model_name": "HTMLModel",
      "state": {
       "_dom_classes": [],
       "_model_module": "@jupyter-widgets/controls",
       "_model_module_version": "1.5.0",
       "_model_name": "HTMLModel",
       "_view_count": null,
       "_view_module": "@jupyter-widgets/controls",
       "_view_module_version": "1.5.0",
       "_view_name": "HTMLView",
       "description": "",
       "description_tooltip": null,
       "layout": "IPY_MODEL_628ee23198fe4db08d18210623fe9aed",
       "placeholder": "​",
       "style": "IPY_MODEL_08f517c1acb4496585fda81254f08742",
       "value": " 2/2 [02:59&lt;00:00, 90.71s/it]"
      }
     },
     "b3005d3205fd4982a68b1e4d931a9cd5": {
      "model_module": "@jupyter-widgets/base",
      "model_module_version": "1.2.0",
      "model_name": "LayoutModel",
      "state": {
       "_model_module": "@jupyter-widgets/base",
       "_model_module_version": "1.2.0",
       "_model_name": "LayoutModel",
       "_view_count": null,
       "_view_module": "@jupyter-widgets/base",
       "_view_module_version": "1.2.0",
       "_view_name": "LayoutView",
       "align_content": null,
       "align_items": null,
       "align_self": null,
       "border": null,
       "bottom": null,
       "display": null,
       "flex": null,
       "flex_flow": null,
       "grid_area": null,
       "grid_auto_columns": null,
       "grid_auto_flow": null,
       "grid_auto_rows": null,
       "grid_column": null,
       "grid_gap": null,
       "grid_row": null,
       "grid_template_areas": null,
       "grid_template_columns": null,
       "grid_template_rows": null,
       "height": null,
       "justify_content": null,
       "justify_items": null,
       "left": null,
       "margin": null,
       "max_height": null,
       "max_width": null,
       "min_height": null,
       "min_width": null,
       "object_fit": null,
       "object_position": null,
       "order": null,
       "overflow": null,
       "overflow_x": null,
       "overflow_y": null,
       "padding": null,
       "right": null,
       "top": null,
       "visibility": null,
       "width": null
      }
     },
     "b8c3157e4ea24f44ad7fe1520bfbedee": {
      "model_module": "@jupyter-widgets/controls",
      "model_module_version": "1.5.0",
      "model_name": "HTMLModel",
      "state": {
       "_dom_classes": [],
       "_model_module": "@jupyter-widgets/controls",
       "_model_module_version": "1.5.0",
       "_model_name": "HTMLModel",
       "_view_count": null,
       "_view_module": "@jupyter-widgets/controls",
       "_view_module_version": "1.5.0",
       "_view_name": "HTMLView",
       "description": "",
       "description_tooltip": null,
       "layout": "IPY_MODEL_8f2abca903194b4cbe95241ab44b4bda",
       "placeholder": "​",
       "style": "IPY_MODEL_6998a2253c244c7b834f1e4889a224e7",
       "value": " 65443/65443 [00:49&lt;00:00, 1398.45it/s]"
      }
     },
     "b9a155b9d79a42e0808a0be375361c1a": {
      "model_module": "@jupyter-widgets/controls",
      "model_module_version": "1.5.0",
      "model_name": "ProgressStyleModel",
      "state": {
       "_model_module": "@jupyter-widgets/controls",
       "_model_module_version": "1.5.0",
       "_model_name": "ProgressStyleModel",
       "_view_count": null,
       "_view_module": "@jupyter-widgets/base",
       "_view_module_version": "1.2.0",
       "_view_name": "StyleView",
       "bar_color": null,
       "description_width": ""
      }
     },
     "ba7f9a272cc240a0a2b6ba5a54160e74": {
      "model_module": "@jupyter-widgets/controls",
      "model_module_version": "1.5.0",
      "model_name": "FloatProgressModel",
      "state": {
       "_dom_classes": [],
       "_model_module": "@jupyter-widgets/controls",
       "_model_module_version": "1.5.0",
       "_model_name": "FloatProgressModel",
       "_view_count": null,
       "_view_module": "@jupyter-widgets/controls",
       "_view_module_version": "1.5.0",
       "_view_name": "ProgressView",
       "bar_style": "success",
       "description": "",
       "description_tooltip": null,
       "layout": "IPY_MODEL_ed4bdb5ecae24a2899701e1c938c1e54",
       "max": 65443,
       "min": 0,
       "orientation": "horizontal",
       "style": "IPY_MODEL_a8c839026951484d9feda95de313c470",
       "value": 65443
      }
     },
     "bc57ae1f1ffe40a3bfab723e83dc5ad1": {
      "model_module": "@jupyter-widgets/controls",
      "model_module_version": "1.5.0",
      "model_name": "DescriptionStyleModel",
      "state": {
       "_model_module": "@jupyter-widgets/controls",
       "_model_module_version": "1.5.0",
       "_model_name": "DescriptionStyleModel",
       "_view_count": null,
       "_view_module": "@jupyter-widgets/base",
       "_view_module_version": "1.2.0",
       "_view_name": "StyleView",
       "description_width": ""
      }
     },
     "bc955c23bc2348c89c65a4853874b780": {
      "model_module": "@jupyter-widgets/controls",
      "model_module_version": "1.5.0",
      "model_name": "HBoxModel",
      "state": {
       "_dom_classes": [],
       "_model_module": "@jupyter-widgets/controls",
       "_model_module_version": "1.5.0",
       "_model_name": "HBoxModel",
       "_view_count": null,
       "_view_module": "@jupyter-widgets/controls",
       "_view_module_version": "1.5.0",
       "_view_name": "HBoxView",
       "box_style": "",
       "children": [
        "IPY_MODEL_00339d405fe7499ca96baa39bc67b33b",
        "IPY_MODEL_ba7f9a272cc240a0a2b6ba5a54160e74",
        "IPY_MODEL_b8c3157e4ea24f44ad7fe1520bfbedee"
       ],
       "layout": "IPY_MODEL_e8270a6698e845c28e976cd818f2bf36"
      }
     },
     "bf270b6848b847cb8b15957f9d7d1597": {
      "model_module": "@jupyter-widgets/controls",
      "model_module_version": "1.5.0",
      "model_name": "HBoxModel",
      "state": {
       "_dom_classes": [],
       "_model_module": "@jupyter-widgets/controls",
       "_model_module_version": "1.5.0",
       "_model_name": "HBoxModel",
       "_view_count": null,
       "_view_module": "@jupyter-widgets/controls",
       "_view_module_version": "1.5.0",
       "_view_name": "HBoxView",
       "box_style": "",
       "children": [
        "IPY_MODEL_cc36aea35e8848c0a20994e7f166c3ea",
        "IPY_MODEL_12e7b2722d2a429eab42c766e32cc507",
        "IPY_MODEL_b0855d5ed5fe4b89ab2691fec4135417"
       ],
       "layout": "IPY_MODEL_23f1d583b74d4079af804eec8904001f"
      }
     },
     "c16c250ba48a439bbab67b3d296607a3": {
      "model_module": "@jupyter-widgets/controls",
      "model_module_version": "1.5.0",
      "model_name": "DescriptionStyleModel",
      "state": {
       "_model_module": "@jupyter-widgets/controls",
       "_model_module_version": "1.5.0",
       "_model_name": "DescriptionStyleModel",
       "_view_count": null,
       "_view_module": "@jupyter-widgets/base",
       "_view_module_version": "1.2.0",
       "_view_name": "StyleView",
       "description_width": ""
      }
     },
     "c2b7a1fae6ca4ffe91c124f6e2cab055": {
      "model_module": "@jupyter-widgets/controls",
      "model_module_version": "1.5.0",
      "model_name": "FloatProgressModel",
      "state": {
       "_dom_classes": [],
       "_model_module": "@jupyter-widgets/controls",
       "_model_module_version": "1.5.0",
       "_model_name": "FloatProgressModel",
       "_view_count": null,
       "_view_module": "@jupyter-widgets/controls",
       "_view_module_version": "1.5.0",
       "_view_name": "ProgressView",
       "bar_style": "success",
       "description": "",
       "description_tooltip": null,
       "layout": "IPY_MODEL_07206bcb873340a38ff7295096d08cf8",
       "max": 1,
       "min": 0,
       "orientation": "horizontal",
       "style": "IPY_MODEL_7314394e1cc44b748ad91672ad2ef894",
       "value": 1
      }
     },
     "ca5a5fbcf2f94ea7a61e142aee743cfe": {
      "model_module": "@jupyter-widgets/controls",
      "model_module_version": "1.5.0",
      "model_name": "HBoxModel",
      "state": {
       "_dom_classes": [],
       "_model_module": "@jupyter-widgets/controls",
       "_model_module_version": "1.5.0",
       "_model_name": "HBoxModel",
       "_view_count": null,
       "_view_module": "@jupyter-widgets/controls",
       "_view_module_version": "1.5.0",
       "_view_name": "HBoxView",
       "box_style": "",
       "children": [
        "IPY_MODEL_d0fa6dbf99764c63a6c01a003af66102",
        "IPY_MODEL_57f0325a4e834b62865b981ff6b6f454",
        "IPY_MODEL_8b562e744d764f62a44579d759f7cdea"
       ],
       "layout": "IPY_MODEL_f5fc46597e74471e9c3103dd4e00f5cf"
      }
     },
     "cbd06ca5c3ec4086a14941747306f220": {
      "model_module": "@jupyter-widgets/base",
      "model_module_version": "1.2.0",
      "model_name": "LayoutModel",
      "state": {
       "_model_module": "@jupyter-widgets/base",
       "_model_module_version": "1.2.0",
       "_model_name": "LayoutModel",
       "_view_count": null,
       "_view_module": "@jupyter-widgets/base",
       "_view_module_version": "1.2.0",
       "_view_name": "LayoutView",
       "align_content": null,
       "align_items": null,
       "align_self": null,
       "border": null,
       "bottom": null,
       "display": null,
       "flex": null,
       "flex_flow": null,
       "grid_area": null,
       "grid_auto_columns": null,
       "grid_auto_flow": null,
       "grid_auto_rows": null,
       "grid_column": null,
       "grid_gap": null,
       "grid_row": null,
       "grid_template_areas": null,
       "grid_template_columns": null,
       "grid_template_rows": null,
       "height": null,
       "justify_content": null,
       "justify_items": null,
       "left": null,
       "margin": null,
       "max_height": null,
       "max_width": null,
       "min_height": null,
       "min_width": null,
       "object_fit": null,
       "object_position": null,
       "order": null,
       "overflow": null,
       "overflow_x": null,
       "overflow_y": null,
       "padding": null,
       "right": null,
       "top": null,
       "visibility": null,
       "width": null
      }
     },
     "cc36aea35e8848c0a20994e7f166c3ea": {
      "model_module": "@jupyter-widgets/controls",
      "model_module_version": "1.5.0",
      "model_name": "HTMLModel",
      "state": {
       "_dom_classes": [],
       "_model_module": "@jupyter-widgets/controls",
       "_model_module_version": "1.5.0",
       "_model_name": "HTMLModel",
       "_view_count": null,
       "_view_module": "@jupyter-widgets/controls",
       "_view_module_version": "1.5.0",
       "_view_name": "HTMLView",
       "description": "",
       "description_tooltip": null,
       "layout": "IPY_MODEL_913fdfd6e59f42b7b755f242ad4305b9",
       "placeholder": "​",
       "style": "IPY_MODEL_3fae4e82be814759bc8d79ff0cd7437f",
       "value": "Standardizing ../input/msci-citeseq-keras-quickstart-dropout/submission.csv: 100%"
      }
     },
     "d0fa6dbf99764c63a6c01a003af66102": {
      "model_module": "@jupyter-widgets/controls",
      "model_module_version": "1.5.0",
      "model_name": "HTMLModel",
      "state": {
       "_dom_classes": [],
       "_model_module": "@jupyter-widgets/controls",
       "_model_module_version": "1.5.0",
       "_model_name": "HTMLModel",
       "_view_count": null,
       "_view_module": "@jupyter-widgets/controls",
       "_view_module_version": "1.5.0",
       "_view_name": "HTMLView",
       "description": "",
       "description_tooltip": null,
       "layout": "IPY_MODEL_8e2684d31c74434e897af590eea2548f",
       "placeholder": "​",
       "style": "IPY_MODEL_c16c250ba48a439bbab67b3d296607a3",
       "value": "Standardizing submission_keras_multiome.csv: 100%"
      }
     },
     "d2854afe9fbd439ea08d989fbbd4c597": {
      "model_module": "@jupyter-widgets/base",
      "model_module_version": "1.2.0",
      "model_name": "LayoutModel",
      "state": {
       "_model_module": "@jupyter-widgets/base",
       "_model_module_version": "1.2.0",
       "_model_name": "LayoutModel",
       "_view_count": null,
       "_view_module": "@jupyter-widgets/base",
       "_view_module_version": "1.2.0",
       "_view_name": "LayoutView",
       "align_content": null,
       "align_items": null,
       "align_self": null,
       "border": null,
       "bottom": null,
       "display": null,
       "flex": null,
       "flex_flow": null,
       "grid_area": null,
       "grid_auto_columns": null,
       "grid_auto_flow": null,
       "grid_auto_rows": null,
       "grid_column": null,
       "grid_gap": null,
       "grid_row": null,
       "grid_template_areas": null,
       "grid_template_columns": null,
       "grid_template_rows": null,
       "height": null,
       "justify_content": null,
       "justify_items": null,
       "left": null,
       "margin": null,
       "max_height": null,
       "max_width": null,
       "min_height": null,
       "min_width": null,
       "object_fit": null,
       "object_position": null,
       "order": null,
       "overflow": null,
       "overflow_x": null,
       "overflow_y": null,
       "padding": null,
       "right": null,
       "top": null,
       "visibility": null,
       "width": null
      }
     },
     "d762e8514c2b470ca755e9421d2d9e67": {
      "model_module": "@jupyter-widgets/base",
      "model_module_version": "1.2.0",
      "model_name": "LayoutModel",
      "state": {
       "_model_module": "@jupyter-widgets/base",
       "_model_module_version": "1.2.0",
       "_model_name": "LayoutModel",
       "_view_count": null,
       "_view_module": "@jupyter-widgets/base",
       "_view_module_version": "1.2.0",
       "_view_name": "LayoutView",
       "align_content": null,
       "align_items": null,
       "align_self": null,
       "border": null,
       "bottom": null,
       "display": null,
       "flex": null,
       "flex_flow": null,
       "grid_area": null,
       "grid_auto_columns": null,
       "grid_auto_flow": null,
       "grid_auto_rows": null,
       "grid_column": null,
       "grid_gap": null,
       "grid_row": null,
       "grid_template_areas": null,
       "grid_template_columns": null,
       "grid_template_rows": null,
       "height": null,
       "justify_content": null,
       "justify_items": null,
       "left": null,
       "margin": null,
       "max_height": null,
       "max_width": null,
       "min_height": null,
       "min_width": null,
       "object_fit": null,
       "object_position": null,
       "order": null,
       "overflow": null,
       "overflow_x": null,
       "overflow_y": null,
       "padding": null,
       "right": null,
       "top": null,
       "visibility": null,
       "width": null
      }
     },
     "d8f6501c00cd4505a9779ef2d4f9d4e3": {
      "model_module": "@jupyter-widgets/controls",
      "model_module_version": "1.5.0",
      "model_name": "HBoxModel",
      "state": {
       "_dom_classes": [],
       "_model_module": "@jupyter-widgets/controls",
       "_model_module_version": "1.5.0",
       "_model_name": "HBoxModel",
       "_view_count": null,
       "_view_module": "@jupyter-widgets/controls",
       "_view_module_version": "1.5.0",
       "_view_name": "HBoxView",
       "box_style": "",
       "children": [
        "IPY_MODEL_90be62ea296d49b59208982b5faee5ca",
        "IPY_MODEL_c2b7a1fae6ca4ffe91c124f6e2cab055",
        "IPY_MODEL_2fcb7aeb69f94d1ea558df5a1a42d8b5"
       ],
       "layout": "IPY_MODEL_22e0364ccc6d493fbed285ebe7a9d1e5"
      }
     },
     "da6d955b2b3142539da64c9c7cafbd5a": {
      "model_module": "@jupyter-widgets/base",
      "model_module_version": "1.2.0",
      "model_name": "LayoutModel",
      "state": {
       "_model_module": "@jupyter-widgets/base",
       "_model_module_version": "1.2.0",
       "_model_name": "LayoutModel",
       "_view_count": null,
       "_view_module": "@jupyter-widgets/base",
       "_view_module_version": "1.2.0",
       "_view_name": "LayoutView",
       "align_content": null,
       "align_items": null,
       "align_self": null,
       "border": null,
       "bottom": null,
       "display": null,
       "flex": null,
       "flex_flow": null,
       "grid_area": null,
       "grid_auto_columns": null,
       "grid_auto_flow": null,
       "grid_auto_rows": null,
       "grid_column": null,
       "grid_gap": null,
       "grid_row": null,
       "grid_template_areas": null,
       "grid_template_columns": null,
       "grid_template_rows": null,
       "height": null,
       "justify_content": null,
       "justify_items": null,
       "left": null,
       "margin": null,
       "max_height": null,
       "max_width": null,
       "min_height": null,
       "min_width": null,
       "object_fit": null,
       "object_position": null,
       "order": null,
       "overflow": null,
       "overflow_x": null,
       "overflow_y": null,
       "padding": null,
       "right": null,
       "top": null,
       "visibility": null,
       "width": null
      }
     },
     "db9c932d50ec4a1384fef9a056f88716": {
      "model_module": "@jupyter-widgets/base",
      "model_module_version": "1.2.0",
      "model_name": "LayoutModel",
      "state": {
       "_model_module": "@jupyter-widgets/base",
       "_model_module_version": "1.2.0",
       "_model_name": "LayoutModel",
       "_view_count": null,
       "_view_module": "@jupyter-widgets/base",
       "_view_module_version": "1.2.0",
       "_view_name": "LayoutView",
       "align_content": null,
       "align_items": null,
       "align_self": null,
       "border": null,
       "bottom": null,
       "display": null,
       "flex": null,
       "flex_flow": null,
       "grid_area": null,
       "grid_auto_columns": null,
       "grid_auto_flow": null,
       "grid_auto_rows": null,
       "grid_column": null,
       "grid_gap": null,
       "grid_row": null,
       "grid_template_areas": null,
       "grid_template_columns": null,
       "grid_template_rows": null,
       "height": null,
       "justify_content": null,
       "justify_items": null,
       "left": null,
       "margin": null,
       "max_height": null,
       "max_width": null,
       "min_height": null,
       "min_width": null,
       "object_fit": null,
       "object_position": null,
       "order": null,
       "overflow": null,
       "overflow_x": null,
       "overflow_y": null,
       "padding": null,
       "right": null,
       "top": null,
       "visibility": null,
       "width": null
      }
     },
     "dc737595b2134428856a181a17fb469b": {
      "model_module": "@jupyter-widgets/base",
      "model_module_version": "1.2.0",
      "model_name": "LayoutModel",
      "state": {
       "_model_module": "@jupyter-widgets/base",
       "_model_module_version": "1.2.0",
       "_model_name": "LayoutModel",
       "_view_count": null,
       "_view_module": "@jupyter-widgets/base",
       "_view_module_version": "1.2.0",
       "_view_name": "LayoutView",
       "align_content": null,
       "align_items": null,
       "align_self": null,
       "border": null,
       "bottom": null,
       "display": null,
       "flex": null,
       "flex_flow": null,
       "grid_area": null,
       "grid_auto_columns": null,
       "grid_auto_flow": null,
       "grid_auto_rows": null,
       "grid_column": null,
       "grid_gap": null,
       "grid_row": null,
       "grid_template_areas": null,
       "grid_template_columns": null,
       "grid_template_rows": null,
       "height": null,
       "justify_content": null,
       "justify_items": null,
       "left": null,
       "margin": null,
       "max_height": null,
       "max_width": null,
       "min_height": null,
       "min_width": null,
       "object_fit": null,
       "object_position": null,
       "order": null,
       "overflow": null,
       "overflow_x": null,
       "overflow_y": null,
       "padding": null,
       "right": null,
       "top": null,
       "visibility": null,
       "width": null
      }
     },
     "e8270a6698e845c28e976cd818f2bf36": {
      "model_module": "@jupyter-widgets/base",
      "model_module_version": "1.2.0",
      "model_name": "LayoutModel",
      "state": {
       "_model_module": "@jupyter-widgets/base",
       "_model_module_version": "1.2.0",
       "_model_name": "LayoutModel",
       "_view_count": null,
       "_view_module": "@jupyter-widgets/base",
       "_view_module_version": "1.2.0",
       "_view_name": "LayoutView",
       "align_content": null,
       "align_items": null,
       "align_self": null,
       "border": null,
       "bottom": null,
       "display": null,
       "flex": null,
       "flex_flow": null,
       "grid_area": null,
       "grid_auto_columns": null,
       "grid_auto_flow": null,
       "grid_auto_rows": null,
       "grid_column": null,
       "grid_gap": null,
       "grid_row": null,
       "grid_template_areas": null,
       "grid_template_columns": null,
       "grid_template_rows": null,
       "height": null,
       "justify_content": null,
       "justify_items": null,
       "left": null,
       "margin": null,
       "max_height": null,
       "max_width": null,
       "min_height": null,
       "min_width": null,
       "object_fit": null,
       "object_position": null,
       "order": null,
       "overflow": null,
       "overflow_x": null,
       "overflow_y": null,
       "padding": null,
       "right": null,
       "top": null,
       "visibility": null,
       "width": null
      }
     },
     "ed4bdb5ecae24a2899701e1c938c1e54": {
      "model_module": "@jupyter-widgets/base",
      "model_module_version": "1.2.0",
      "model_name": "LayoutModel",
      "state": {
       "_model_module": "@jupyter-widgets/base",
       "_model_module_version": "1.2.0",
       "_model_name": "LayoutModel",
       "_view_count": null,
       "_view_module": "@jupyter-widgets/base",
       "_view_module_version": "1.2.0",
       "_view_name": "LayoutView",
       "align_content": null,
       "align_items": null,
       "align_self": null,
       "border": null,
       "bottom": null,
       "display": null,
       "flex": null,
       "flex_flow": null,
       "grid_area": null,
       "grid_auto_columns": null,
       "grid_auto_flow": null,
       "grid_auto_rows": null,
       "grid_column": null,
       "grid_gap": null,
       "grid_row": null,
       "grid_template_areas": null,
       "grid_template_columns": null,
       "grid_template_rows": null,
       "height": null,
       "justify_content": null,
       "justify_items": null,
       "left": null,
       "margin": null,
       "max_height": null,
       "max_width": null,
       "min_height": null,
       "min_width": null,
       "object_fit": null,
       "object_position": null,
       "order": null,
       "overflow": null,
       "overflow_x": null,
       "overflow_y": null,
       "padding": null,
       "right": null,
       "top": null,
       "visibility": null,
       "width": null
      }
     },
     "f16ffbc60367492d819f4d5aec49a39d": {
      "model_module": "@jupyter-widgets/controls",
      "model_module_version": "1.5.0",
      "model_name": "DescriptionStyleModel",
      "state": {
       "_model_module": "@jupyter-widgets/controls",
       "_model_module_version": "1.5.0",
       "_model_name": "DescriptionStyleModel",
       "_view_count": null,
       "_view_module": "@jupyter-widgets/base",
       "_view_module_version": "1.2.0",
       "_view_name": "StyleView",
       "description_width": ""
      }
     },
     "f39f578ac1574314a5cf05617bf4c58b": {
      "model_module": "@jupyter-widgets/controls",
      "model_module_version": "1.5.0",
      "model_name": "FloatProgressModel",
      "state": {
       "_dom_classes": [],
       "_model_module": "@jupyter-widgets/controls",
       "_model_module_version": "1.5.0",
       "_model_name": "FloatProgressModel",
       "_view_count": null,
       "_view_module": "@jupyter-widgets/controls",
       "_view_module_version": "1.5.0",
       "_view_name": "ProgressView",
       "bar_style": "success",
       "description": "",
       "description_tooltip": null,
       "layout": "IPY_MODEL_da6d955b2b3142539da64c9c7cafbd5a",
       "max": 2,
       "min": 0,
       "orientation": "horizontal",
       "style": "IPY_MODEL_b9a155b9d79a42e0808a0be375361c1a",
       "value": 2
      }
     },
     "f4fffaf89e7a4198b05d81b60b8c4644": {
      "model_module": "@jupyter-widgets/base",
      "model_module_version": "1.2.0",
      "model_name": "LayoutModel",
      "state": {
       "_model_module": "@jupyter-widgets/base",
       "_model_module_version": "1.2.0",
       "_model_name": "LayoutModel",
       "_view_count": null,
       "_view_module": "@jupyter-widgets/base",
       "_view_module_version": "1.2.0",
       "_view_name": "LayoutView",
       "align_content": null,
       "align_items": null,
       "align_self": null,
       "border": null,
       "bottom": null,
       "display": null,
       "flex": null,
       "flex_flow": null,
       "grid_area": null,
       "grid_auto_columns": null,
       "grid_auto_flow": null,
       "grid_auto_rows": null,
       "grid_column": null,
       "grid_gap": null,
       "grid_row": null,
       "grid_template_areas": null,
       "grid_template_columns": null,
       "grid_template_rows": null,
       "height": null,
       "justify_content": null,
       "justify_items": null,
       "left": null,
       "margin": null,
       "max_height": null,
       "max_width": null,
       "min_height": null,
       "min_width": null,
       "object_fit": null,
       "object_position": null,
       "order": null,
       "overflow": null,
       "overflow_x": null,
       "overflow_y": null,
       "padding": null,
       "right": null,
       "top": null,
       "visibility": null,
       "width": null
      }
     },
     "f5fc46597e74471e9c3103dd4e00f5cf": {
      "model_module": "@jupyter-widgets/base",
      "model_module_version": "1.2.0",
      "model_name": "LayoutModel",
      "state": {
       "_model_module": "@jupyter-widgets/base",
       "_model_module_version": "1.2.0",
       "_model_name": "LayoutModel",
       "_view_count": null,
       "_view_module": "@jupyter-widgets/base",
       "_view_module_version": "1.2.0",
       "_view_name": "LayoutView",
       "align_content": null,
       "align_items": null,
       "align_self": null,
       "border": null,
       "bottom": null,
       "display": null,
       "flex": null,
       "flex_flow": null,
       "grid_area": null,
       "grid_auto_columns": null,
       "grid_auto_flow": null,
       "grid_auto_rows": null,
       "grid_column": null,
       "grid_gap": null,
       "grid_row": null,
       "grid_template_areas": null,
       "grid_template_columns": null,
       "grid_template_rows": null,
       "height": null,
       "justify_content": null,
       "justify_items": null,
       "left": null,
       "margin": null,
       "max_height": null,
       "max_width": null,
       "min_height": null,
       "min_width": null,
       "object_fit": null,
       "object_position": null,
       "order": null,
       "overflow": null,
       "overflow_x": null,
       "overflow_y": null,
       "padding": null,
       "right": null,
       "top": null,
       "visibility": null,
       "width": null
      }
     },
     "fb5a0c9b27e242ddb43131dd197803ca": {
      "model_module": "@jupyter-widgets/controls",
      "model_module_version": "1.5.0",
      "model_name": "DescriptionStyleModel",
      "state": {
       "_model_module": "@jupyter-widgets/controls",
       "_model_module_version": "1.5.0",
       "_model_name": "DescriptionStyleModel",
       "_view_count": null,
       "_view_module": "@jupyter-widgets/base",
       "_view_module_version": "1.2.0",
       "_view_name": "StyleView",
       "description_width": ""
      }
     }
    },
    "version_major": 2,
    "version_minor": 0
   }
  }
 },
 "nbformat": 4,
 "nbformat_minor": 5
}
